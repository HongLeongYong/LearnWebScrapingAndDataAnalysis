{
 "cells": [
  {
   "cell_type": "code",
   "execution_count": 14,
   "metadata": {},
   "outputs": [],
   "source": [
    "from bs4 import BeautifulSoup\n",
    "import re, urllib.request, os, sys, requests , time, json"
   ]
  },
  {
   "cell_type": "code",
   "execution_count": 15,
   "metadata": {},
   "outputs": [],
   "source": [
    "def parse(dom):\n",
    "    soup = BeautifulSoup(dom,'html.parser')\n",
    "    links = soup.find(id = 'main-content').find_all('a')\n",
    "    img_urls = []\n",
    "    for link in links:\n",
    "        if re.match(r'^https?://(i.)?(m.)?imgur.com', link['href']):\n",
    "            img_urls.append(link['href'])\n",
    "    return img_urls\n"
   ]
  },
  {
   "cell_type": "code",
   "execution_count": 20,
   "metadata": {},
   "outputs": [],
   "source": [
    "# 這裡有一個問題，你那就是會把其他類型的圖片都變成jpg, 例如a.gif 會變成 a.gif.jpg\n",
    "def save(img_urls, title):\n",
    "    if img_urls:\n",
    "        try:\n",
    "            dname = title.strip() #去除字串前後的空白\n",
    "            os.makedirs(dname)\n",
    "            for img_url in img_urls:\n",
    "                # 例子 'https://i.imgur.com/dLHzGbK.jpg'.split('//')\n",
    "                #      輸出結果為 ['https:','i.imgur.com/dLHzGbK.jpg']\n",
    "                if img_url.split('//')[1].startswith('m.'):\n",
    "                    img_url = img_url.replace('//m.','//i.')\n",
    "                if not img_url.split('//')[1].startswith('i.'):\n",
    "                    img_url = img_url.split('//')[0] + '//i.' + img_url.split('//')[1]\n",
    "                if not img_url.endswith('.jpg'):\n",
    "                    img_url += '.jpg'\n",
    "                fname = img_url.split('/')[-1]\n",
    "                urllib.request.urlretrieve(img_url, os.path.join(dname,fname))\n",
    "        except Exception as e:\n",
    "            print(e)"
   ]
  },
  {
   "cell_type": "code",
   "execution_count": 21,
   "metadata": {},
   "outputs": [],
   "source": [
    "def get_web_page(url):\n",
    "    resp = requests.get(\n",
    "    url = url,\n",
    "    cookies = {'over18':'1'}  # 告知 Server 已回答滿18歲的問題\n",
    "    )\n",
    "    if resp.status_code != 200:\n",
    "        print('Invalid url:',resp.url)\n",
    "    else:\n",
    "        return resp.text"
   ]
  },
  {
   "cell_type": "code",
   "execution_count": 22,
   "metadata": {},
   "outputs": [],
   "source": [
    "def get_articles(dom,date):\n",
    "    soup = BeautifulSoup(dom, 'html5lib')\n",
    "    \n",
    "    # 取得上一頁的連接\n",
    "    paging_div = soup.find('div','btn-group btn-group-paging')\n",
    "    prev_url = paging_div.find_all('a')[1]['href'] # 從0開始，1是指按鈕上頁\n",
    "    \n",
    "    articles = [] #儲存取得的文章資料\n",
    "    divs = soup.find_all('div','r-ent')\n",
    "    for d in divs:\n",
    "        if d.find('div','date').text.strip() ==  date: #發文日期正確\n",
    "            # 取得推文數\n",
    "            push_count = 0\n",
    "            push_str = d.find('div','nrec').text\n",
    "            if push_str:\n",
    "                try:\n",
    "                    push_count = int(push_str) # 轉換字串為數字\n",
    "                except ValueError:\n",
    "                    # 若轉換失敗，可能是' 爆' 或 x1, x2,...\n",
    "                    # 若不是， 不做任何事， push_count 保持為 0\n",
    "                    if push_str == '爆':\n",
    "                        push_count = 99\n",
    "                    elif push_str.startswith('X'):\n",
    "                        push_count = -10\n",
    "                        \n",
    "            # 取得文章連接及標題\n",
    "            if d.find('a'): #有超鏈接，表示文章存在，未被刪除\n",
    "                href = d.find('a')['href']\n",
    "                title = d.find('a').text\n",
    "                author = d.find('div','author').text if d.find('div','author') else ''\n",
    "                articles.append({\n",
    "                    'title' : title,\n",
    "                    'href' : href,\n",
    "                    'push_count' : push_count,\n",
    "                    'author' : author\n",
    "                })\n",
    "    return articles, prev_url"
   ]
  },
  {
   "cell_type": "code",
   "execution_count": 23,
   "metadata": {},
   "outputs": [
    {
     "name": "stdout",
     "output_type": "stream",
     "text": [
      "Processing {'title': '[正妹] 石原聰美的笑容.gif', 'href': '/bbs/Beauty/M.1619025110.A.CC8.html', 'push_count': 32, 'author': 'HarunaOno'}\n",
      "[WinError 183] Cannot create a file when that file already exists: '[正妹] 石原聰美的笑容.gif'\n",
      "Processing {'title': '[帥哥] 荒牧慶彥', 'href': '/bbs/Beauty/M.1619052103.A.708.html', 'push_count': 0, 'author': 'radiotofu'}\n",
      "[WinError 183] Cannot create a file when that file already exists: '[帥哥] 荒牧慶彥'\n",
      "Processing {'title': '[正妹] 怪異姿勢拍照的妹', 'href': '/bbs/Beauty/M.1619056593.A.CD4.html', 'push_count': 81, 'author': 'bbob'}\n",
      "[WinError 183] Cannot create a file when that file already exists: '[正妹] 怪異姿勢拍照的妹'\n",
      "Processing {'title': '[神人] 蕾黛絲MODEL', 'href': '/bbs/Beauty/M.1619063049.A.331.html', 'push_count': 0, 'author': 'sk711'}\n",
      "[WinError 183] Cannot create a file when that file already exists: '[神人] 蕾黛絲MODEL'\n",
      "Processing {'title': '[廣告] 「史上最正賽車皇后」早瀬あや 火辣巨乳撼動男人心', 'href': '/bbs/Beauty/M.1619063438.A.F90.html', 'push_count': 13, 'author': 'kelseyaya'}\n",
      "[WinError 183] Cannot create a file when that file already exists: '[廣告] 「史上最正賽車皇后」早瀬あや 火辣巨乳撼動男人心'\n",
      "Processing {'title': '[正妹] 大尺碼｜肉特(451)', 'href': '/bbs/Beauty/M.1619064573.A.B48.html', 'push_count': 0, 'author': 'ckpot'}\n",
      "[WinError 183] Cannot create a file when that file already exists: '[正妹] 大尺碼｜肉特(451)'\n"
     ]
    }
   ],
   "source": [
    "PTT_URL = 'https://www.ptt.cc'\n",
    "current_page = get_web_page(PTT_URL + '/bbs/Beauty/index.html')\n",
    "\n",
    "if current_page:\n",
    "    \n",
    "    articles = [] # 全部的今日文章\n",
    "    \n",
    "    # 今天日期，去掉開頭的 '0' 以符合PTT網站格式\n",
    "    today = time.strftime('%m/%d').lstrip('0')\n",
    "    \n",
    "    # 目前頁面的今日文章\n",
    "    current_articles,prev_url = get_articles(current_page,today)\n",
    "    \n",
    "    # 若目前頁面有今日文章則加入 articles, 並回到上一頁繼續尋找是否有今日文章\n",
    "    while current_articles:\n",
    "        articles += current_articles\n",
    "        current_page = get_web_page(PTT_URL + prev_url)\n",
    "        current_articles, prev_url = get_articles(current_page, today)\n",
    "        \n",
    "    # 已取得文章列表，開始進入各文章讀圖\n",
    "    for article in articles:\n",
    "        print('Processing',article)\n",
    "        page = get_web_page(PTT_URL + article['href'])\n",
    "        if page:\n",
    "            img_urls = parse(page)\n",
    "            save(img_urls, article['title'])\n",
    "            article['num_image'] = len(img_urls)\n",
    "            \n",
    "    # 儲存文章資訊\n",
    "    with open('data.json','w',encoding='utf-8')as f:\n",
    "        json.dump(articles,f,indent = 2,sort_keys = True, ensure_ascii=False)\n",
    "        \n",
    "# 輸出結果除了文字顯示外，還包括在同一頁資料夾中的 data.json 還有各自建立的不同檔案"
   ]
  },
  {
   "cell_type": "code",
   "execution_count": null,
   "metadata": {},
   "outputs": [],
   "source": []
  }
 ],
 "metadata": {
  "kernelspec": {
   "display_name": "Python 3",
   "language": "python",
   "name": "python3"
  },
  "language_info": {
   "codemirror_mode": {
    "name": "ipython",
    "version": 3
   },
   "file_extension": ".py",
   "mimetype": "text/x-python",
   "name": "python",
   "nbconvert_exporter": "python",
   "pygments_lexer": "ipython3",
   "version": "3.8.5"
  }
 },
 "nbformat": 4,
 "nbformat_minor": 4
}
