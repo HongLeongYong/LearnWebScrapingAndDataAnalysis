{
 "cells": [
  {
   "cell_type": "code",
   "execution_count": 3,
   "id": "controlling-bargain",
   "metadata": {},
   "outputs": [
    {
     "name": "stdout",
     "output_type": "stream",
     "text": [
      "歡迎來到 Pycone 松果城市！\n"
     ]
    }
   ],
   "source": [
    "import requests\n",
    "from bs4 import BeautifulSoup\n",
    "\n",
    "resp = requests.get(\"http://blog.castman.net/py-scraping-analysis-book/ch1/connect.html\")\n",
    "soup = BeautifulSoup(resp.text, \"html.parser\")\n",
    "print(soup.find(\"h1\").text)"
   ]
  },
  {
   "cell_type": "code",
   "execution_count": 6,
   "id": "geographic-worcester",
   "metadata": {},
   "outputs": [
    {
     "name": "stdout",
     "output_type": "stream",
     "text": [
      "歡迎來到 Pycone 松果城市！\n",
      "Exception: 'NoneType' object has no attribute 'text'\n",
      "None\n",
      "Exception: HTTPConnectionPool(host='non-existed.domin', port=80): Max retries exceeded with url: /connect.html (Caused by NewConnectionError('<urllib3.connection.HTTPConnection object at 0x000001C91D146640>: Failed to establish a new connection: [Errno 11001] getaddrinfo failed'))\n",
      "None\n"
     ]
    }
   ],
   "source": [
    "import requests\n",
    "from bs4 import BeautifulSoup\n",
    "\n",
    "def main():\n",
    "    url01 = 'http://blog.castman.net/py-scraping-analysis-book/ch1/connect.html'\n",
    "    bad_url = 'http://non-existed.domin/connect.html'\n",
    "    text01 = get_tag_text(url01,'h1')\n",
    "    print(text01)\n",
    "    text02 = get_tag_text(url01,'h2')\n",
    "    print(text02)\n",
    "    text03 = get_tag_text(bad_url,'h1')\n",
    "    print(text03)\n",
    "\n",
    "def get_tag_text(url,tag):\n",
    "    try:\n",
    "        resp = requests.get(url)\n",
    "        if resp.status_code == 200:\n",
    "            soup = BeautifulSoup(resp.text, 'html.parser')\n",
    "            return soup.find(tag).text\n",
    "    except Exception as e:\n",
    "        print('Exception: %s' %(e))\n",
    "    return None\n",
    "\n",
    "if __name__ =='__main__':\n",
    "    main()"
   ]
  },
  {
   "cell_type": "code",
   "execution_count": null,
   "id": "solid-weekend",
   "metadata": {},
   "outputs": [],
   "source": []
  }
 ],
 "metadata": {
  "kernelspec": {
   "display_name": "Python 3",
   "language": "python",
   "name": "python3"
  },
  "language_info": {
   "codemirror_mode": {
    "name": "ipython",
    "version": 3
   },
   "file_extension": ".py",
   "mimetype": "text/x-python",
   "name": "python",
   "nbconvert_exporter": "python",
   "pygments_lexer": "ipython3",
   "version": "3.8.8"
  }
 },
 "nbformat": 4,
 "nbformat_minor": 5
}
