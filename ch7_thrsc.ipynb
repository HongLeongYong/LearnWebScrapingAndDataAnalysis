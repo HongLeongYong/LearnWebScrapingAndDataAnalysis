{
 "cells": [
  {
   "cell_type": "code",
   "execution_count": 1,
   "metadata": {},
   "outputs": [
    {
     "name": "stdout",
     "output_type": "stream",
     "text": [
      "TaiPei\n"
     ]
    }
   ],
   "source": [
    "# 程式碼編輯日期 29/04/2021 , 高鐵改過版 , 這是可以運行的版本\n",
    "import requests\n",
    "from bs4 import BeautifulSoup\n",
    "\n",
    "URL = 'https://www.thsrc.com.tw/ArticleContent/a3b630bb-1066-4352-a1ef-58c7b4e8ef7c'\n",
    "\n",
    "def get_station_id():\n",
    "    station_to_id = {}\n",
    "    resp = requests.get(URL)\n",
    "    soup = BeautifulSoup(resp.text, 'html5lib')\n",
    "    for opt in soup.find('select', id='select_location01').find_all('option'):\n",
    "        if opt['value']:\n",
    "            station_to_id[opt.text.strip()] = opt['value']\n",
    "    return station_to_id\n",
    "\n",
    "station_to_id = get_station_id()\n",
    "print(station_to_id['台北'])"
   ]
  },
  {
   "cell_type": "code",
   "execution_count": null,
   "metadata": {},
   "outputs": [],
   "source": [
    "# 從書上抄來，還無法運行\n",
    "def time_table(start_station, end_station, search_date, search_time, rest_time=None, early_or_later=None):\n",
    "    form_data = {\n",
    "        'StartStation': start_station,\n",
    "        'EndStation': end_station,\n",
    "        'SearchDate': search_date,\n",
    "        'SearchTime': search_time,\n",
    "        'SearchWay': 'DepartureInMandarin',\n",
    "    }\n",
    "    if rest_time:\n",
    "        form_data['RestTime'] = rest_time\n",
    "    if early_or_later:\n",
    "        form_data['EarlyOrLater'] = early_or_later\n",
    "\n",
    "    times = []\n",
    "    resp = requests.post(URL, data=form_data)\n",
    "    soup = BeautifulSoup(resp.text, 'html5lib')\n",
    "    for tr in soup.find_all('table', 'touch_table'):\n",
    "        times.append([s for s in tr.stripped_strings])\n",
    "\n",
    "    # 取得較早及較晚班次時間\n",
    "    prev_time = soup.find('a', 'res_prev_btn')['onclick'].split(\"'\")[1]\n",
    "    next_time = soup.find('a', 'res_next_btn')['onclick'].split(\"'\")[1]\n",
    "\n",
    "    return times, prev_time, next_time"
   ]
  },
  {
   "cell_type": "code",
   "execution_count": null,
   "metadata": {},
   "outputs": [],
   "source": [
    "# 從書上抄來，還無法運行\n",
    "def get_times(start_station, end_station, search_date, search_time):\n",
    "    URL = 'https://www.thsrc.com.tw/tw/TimeTable/Search'\n",
    "    form_data = {\n",
    "        'StartStationName': start_station,#'台北站',\n",
    "        'EndStationName': end_station,#'嘉義站',\n",
    "        'SearchType': 'S',\n",
    "        'StartStation': station_to_id[start_station],# '977abb69-413a-4ccf-a109-0272c24fd490',\n",
    "        'EndStation': station_to_id[end_station],# '60831846-f0e4-47f6-9b5b-46323ebdcef7',\n",
    "        'DepartueSearchDate': search_date,#'2019/07/07',\n",
    "        'DepartueSearchTime': search_time#'15:30'\n",
    "    }\n",
    "    resp = requests.post(URL, data=form_data)\n",
    "    data = resp.json()\n",
    "    # 回傳資料也包含其他車次詳細資訊, 此處僅取出其中四項作為範例\n",
    "    columns = ['TrainNumber', 'DepartureTime', 'DestinationTime', 'Duration']\n",
    "    times = []\n",
    "    for d in data['data']['DepartureTable']['TrainItem']:\n",
    "        times.append([d[c] for c in columns])\n",
    "    return times"
   ]
  },
  {
   "cell_type": "code",
   "execution_count": null,
   "metadata": {},
   "outputs": [],
   "source": [
    "# 從書上抄來，還無法運行\n",
    "if __name__ == '__main__':\n",
    "    station_to_id = get_station_id()\n",
    "    times = get_times('台北站', '嘉義站', '2021/04/30', '10:30')\n",
    "    print('車次, 出發時間, 抵達時間, 行車時間')\n",
    "    for t in times:\n",
    "        print(t)"
   ]
  }
 ],
 "metadata": {
  "kernelspec": {
   "display_name": "Python 3",
   "language": "python",
   "name": "python3"
  },
  "language_info": {
   "codemirror_mode": {
    "name": "ipython",
    "version": 3
   },
   "file_extension": ".py",
   "mimetype": "text/x-python",
   "name": "python",
   "nbconvert_exporter": "python",
   "pygments_lexer": "ipython3",
   "version": "3.8.5"
  }
 },
 "nbformat": 4,
 "nbformat_minor": 4
}
