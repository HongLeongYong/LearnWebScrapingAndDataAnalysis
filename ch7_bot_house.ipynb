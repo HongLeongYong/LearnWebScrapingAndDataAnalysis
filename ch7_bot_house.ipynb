{
 "cells": [
  {
   "cell_type": "code",
   "execution_count": 12,
   "metadata": {},
   "outputs": [
    {
     "name": "stdout",
     "output_type": "stream",
     "text": [
      "['管理編號', '拍賣日期', '門\\u3000牌', '用途', '樓層別', '建坪', '地坪', '拍賣總價', '執行法院', '案\\u3000號', '拍賣次數', '備\\u3000註']\n",
      "['J010060003', '109.10.06', '其他', '47.67', '302,000', '彰化地院', '109彰金職平字第145號(法院案號:109年度司執字第3880號)', '減', '特別推薦', '可點交']\n",
      "['J241080007', '108.11.06', '其他', '1,516,200', '臺灣士林地方法院民事執行處(委託金服)', '107年度司執春字第68517號', '4', '特別推薦']\n",
      "['J241080006', '108.09.05', '其他', '0', '臺灣士林地方法院民事執行處', '107年度司執春字第68517號', '2', '特別推薦']\n",
      "['J241070005', '107.06.07', '其他', '3,541,600', '臺灣士林地方法院民事執行處', '106年度司執春字第52191號', '3', '特別推薦']\n",
      "['J241070003', '107.04.19', '其他', '4,332,000', '臺灣士林地方法院民事執行處', '106年度司執春字第52191號', '2', '特別推薦']\n",
      "['J241070004', '107.03.30', '其他', '0', '臺灣士林地方法院民事執行處', '106年度司執春字第52191號', '2', '特別推薦']\n",
      "['J241070001', '107.03.08', '其他', '5,320,000', '臺灣士林地方法院民事執行處', '106年度司執春字第52191號', '1', '特別推薦']\n",
      "['J241070002', '107.02.26', '其他', '0', '臺灣士林地方法院民事執行處', '106年度司執春字第52191號', '1', '特別推薦']\n",
      "['J012060003', '106.08.04', '其他', '120,000', '桃園地院', '105年度司執字第59543號', '2']\n",
      "['J012050003', '106.08.01', '新北市三峽區二鬮路136巷20弄83號地下一層之1、2等', '其他', '地下層', '381.23', '199.55', '6,970,000', '行政執行署新北分署', '98年度營所稅執專字第143226', '3', '特別推薦']\n"
     ]
    }
   ],
   "source": [
    "from bs4 import BeautifulSoup\n",
    "from selenium import webdriver\n",
    "from selenium.webdriver.support.ui import WebDriverWait\n",
    "from selenium.webdriver.support import expected_conditions\n",
    "from selenium.webdriver.common.by import By\n",
    "\n",
    "#https://chromedriver.chromium.org/downloads\n",
    "# 在那之前需要先下載 chromedriver\n",
    "\n",
    "url = 'https://www2.bot.com.tw/house/default.aspx'\n",
    "try:\n",
    "    # executable_path 輸入 web driver 執行檔的位置\n",
    "    # 需要選擇自己google chrome 的 driver， 就例如我的電腦的 chrome 的版本是 90.0.4430\n",
    "    driver = webdriver.Chrome(executable_path = 'chromedriver.exe')\n",
    "    driver.set_page_load_timeout(60)\n",
    "    driver.get(url)\n",
    "\n",
    "    # 定位日期輸入欄位, 並輸入日期\n",
    "    # 拍賣時間 起日 迄日\n",
    "    element = driver.find_element_by_id('fromdate_TextBox')\n",
    "    element.send_keys('1010101')\n",
    "    element = driver.find_element_by_id('todate_TextBox')\n",
    "    element.send_keys('1100101')\n",
    "    \n",
    "    # 定位選單所在欄位並點擊\n",
    "    # 用途選單\n",
    "    element = driver.find_element_by_id('purpose_DDL')\n",
    "    element.click()\n",
    "\n",
    "    # 巡覽選單, 點擊對應選項\n",
    "    for option in element.find_elements_by_tag_name('option'):\n",
    "        if option.text == '其他':\n",
    "            option.click()\n",
    "\n",
    "    # 點擊送出按鈕\n",
    "    element = driver.find_element_by_id('Submit_Button').click()\n",
    "\n",
    "    # 等待目標表格出現\n",
    "    element = WebDriverWait(driver, 5).until(\n",
    "        expected_conditions.presence_of_element_located((By.ID, 'House_GridView'))\n",
    "    )\n",
    "\n",
    "    # page_source 可以回傳目前瀏覽器所看到的網頁文件\n",
    "    soup = BeautifulSoup(driver.page_source, 'html5lib')\n",
    "    table = soup.find(id='House_GridView')\n",
    "    for row in table.find_all('tr'):\n",
    "        print([s for s in row.stripped_strings])\n",
    "    \n",
    "finally: \n",
    "    driver.quit() #關閉瀏覽器， 結束 webdriver process\n",
    "    "
   ]
  },
  {
   "cell_type": "code",
   "execution_count": null,
   "metadata": {},
   "outputs": [],
   "source": []
  }
 ],
 "metadata": {
  "kernelspec": {
   "display_name": "Python 3",
   "language": "python",
   "name": "python3"
  },
  "language_info": {
   "codemirror_mode": {
    "name": "ipython",
    "version": 3
   },
   "file_extension": ".py",
   "mimetype": "text/x-python",
   "name": "python",
   "nbconvert_exporter": "python",
   "pygments_lexer": "ipython3",
   "version": "3.8.5"
  }
 },
 "nbformat": 4,
 "nbformat_minor": 4
}
