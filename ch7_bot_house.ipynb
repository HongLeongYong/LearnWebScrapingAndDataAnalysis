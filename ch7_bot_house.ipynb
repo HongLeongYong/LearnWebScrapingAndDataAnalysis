{
 "cells": [
  {
   "cell_type": "code",
   "execution_count": 10,
   "metadata": {},
   "outputs": [],
   "source": [
    "from bs4 import BeautifulSoup\n",
    "from selenium import webdriver\n",
    "from selenium.webdriver.support.ui import WebDriverWait\n",
    "from selenium.webdriver.support import expected_conditions\n",
    "from selenium.webdriver.common.by import By\n",
    "\n",
    "#https://chromedriver.chromium.org/downloads\n",
    "# 在那之前需要先下載 chromedriver\n",
    "\n",
    "url = 'https://www2.bot.com.tw/house/default.aspx'\n",
    "try:\n",
    "    # executable_path 輸入 web driver 執行檔的位置\n",
    "    # 需要選擇自己google chrome 的 driver， 就例如我的電腦的 chrome 的版本是 90.0.4430\n",
    "    driver = webdriver.Chrome(executable_path = 'chromedriver.exe')\n",
    "    driver.set_page_load_timeout(60)\n",
    "    driver.get(url)\n",
    "finally: \n",
    "    driver.quit()\n",
    "    "
   ]
  },
  {
   "cell_type": "code",
   "execution_count": null,
   "metadata": {},
   "outputs": [],
   "source": []
  },
  {
   "cell_type": "code",
   "execution_count": null,
   "metadata": {},
   "outputs": [],
   "source": []
  }
 ],
 "metadata": {
  "kernelspec": {
   "display_name": "Python 3",
   "language": "python",
   "name": "python3"
  },
  "language_info": {
   "codemirror_mode": {
    "name": "ipython",
    "version": 3
   },
   "file_extension": ".py",
   "mimetype": "text/x-python",
   "name": "python",
   "nbconvert_exporter": "python",
   "pygments_lexer": "ipython3",
   "version": "3.8.5"
  }
 },
 "nbformat": 4,
 "nbformat_minor": 4
}
