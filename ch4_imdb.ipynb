{
 "cells": [
  {
   "cell_type": "code",
   "execution_count": null,
   "metadata": {},
   "outputs": [],
   "source": [
    "import json\n",
    "import requests"
   ]
  },
  {
   "cell_type": "code",
   "execution_count": null,
   "metadata": {},
   "outputs": [],
   "source": [
    "def get_data(url):\n",
    "    data = json.loads(requests.get(url).text)\n",
    "    if data['Response'] == 'True':\n",
    "        return data\n",
    "    else:\n",
    "        return None"
   ]
  },
  {
   "cell_type": "code",
   "execution_count": null,
   "metadata": {},
   "outputs": [],
   "source": [
    "API_KEY = '4afe4bbb'\n",
    "OMDB_URL = 'http://www.omdbapi.com/?apikey=' + API_KEY\n",
    "\n",
    "def search_ids_by_keyword(keywords):\n",
    "    movie_ids = list()\n",
    "    query = '+'.join(keywords.split()) # 'iron man' 變成 iron+man\n",
    "    url = OMDB_URL+'&s='+query\n",
    "    data = get_data(url)\n",
    "    \n",
    "    if data:\n",
    "        # 取得第一頁電影 id\n",
    "        for item in data['Search']:\n",
    "            movie_ids.append(item['imdbID'])\n",
    "        "
   ]
  }
 ],
 "metadata": {
  "kernelspec": {
   "display_name": "Python 3",
   "language": "python",
   "name": "python3"
  },
  "language_info": {
   "codemirror_mode": {
    "name": "ipython",
    "version": 3
   },
   "file_extension": ".py",
   "mimetype": "text/x-python",
   "name": "python",
   "nbconvert_exporter": "python",
   "pygments_lexer": "ipython3",
   "version": "3.8.5"
  }
 },
 "nbformat": 4,
 "nbformat_minor": 4
}
