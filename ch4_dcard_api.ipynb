{
 "cells": [
  {
   "cell_type": "code",
   "execution_count": 16,
   "metadata": {},
   "outputs": [],
   "source": [
    "import requests\n",
    "import json"
   ]
  },
  {
   "cell_type": "code",
   "execution_count": 17,
   "metadata": {},
   "outputs": [],
   "source": [
    "DCARD_URL = 'https://www.dcard.tw'\n",
    "\n",
    "def show(post):\n",
    "    for key in ['id','title','excerpt','likeCount','commentCount']:\n",
    "        print('%s: %s' %(key,post[key]))\n",
    "    print('href: %s/f/%s/p/%s' %(DCARD_URL, post['forumAlias'],post['id']))"
   ]
  },
  {
   "cell_type": "code",
   "execution_count": 18,
   "metadata": {},
   "outputs": [
    {
     "name": "stdout",
     "output_type": "stream",
     "text": [
      "共 5 頁,150 篇文章\n",
      "第 1 篇:\n",
      "id: 235807232\n",
      "title: 大學生常在問「夜店」好玩嗎？\n",
      "excerpt: 我第一次去夜店唯一一次，只進去了3分鐘，我是被同學綁去的，剛進去就受不了，那裡沒有書，沒有考卷，沒有老師，太嘈雜了，並不適合我，我只想好好學習，考取功名，報效國家，你們呢\n",
      "likeCount: 3819\n",
      "commentCount: 308\n",
      "href: https://www.dcard.tw/f/talk/p/235807232\n",
      "第 150 篇:\n",
      "id: 235813811\n",
      "title: 燕麥奶與我的喝法\n",
      "excerpt: 超喜歡自己泡拿鐵&鮮奶茶！，可是皮膚科說喝鮮奶容易長痘，加上我喝鮮奶偶爾會拉肚子，特別是當天下午有報告時如果喝了拿鐵，真的很容易因為緊張整個腸胃抗議，常見的豆漿拿來尬咖啡口感又稀稀的，總之就是無法取代\n",
      "likeCount: 145\n",
      "commentCount: 36\n",
      "href: https://www.dcard.tw/f/food/p/235813811\n"
     ]
    }
   ],
   "source": [
    "DCARD_URL = 'https://www.dcard.tw'\n",
    "DCARD_API = DCARD_URL + '/service/api/v2/posts?popular=true'\n",
    "\n",
    "num_page = 5\n",
    "posts = list(requests.get(DCARD_API).json())\n",
    "for i in range(1,num_page):\n",
    "    id_last_post = posts[-1]['id'] #最後一篇文章的id，用以取得次30篇文章\n",
    "    posts += list(requests.get(DCARD_API + '&before=' + str(id_last_post)).json())\n",
    "    \n",
    "print('共 %d 頁,%d 篇文章' %(num_page, len(posts)))\n",
    "print('第 1 篇:')\n",
    "show(posts[0])\n",
    "print('第 %d 篇:' %(len(posts)))\n",
    "show(posts[-1])"
   ]
  },
  {
   "cell_type": "code",
   "execution_count": null,
   "metadata": {},
   "outputs": [],
   "source": []
  }
 ],
 "metadata": {
  "kernelspec": {
   "display_name": "Python 3",
   "language": "python",
   "name": "python3"
  },
  "language_info": {
   "codemirror_mode": {
    "name": "ipython",
    "version": 3
   },
   "file_extension": ".py",
   "mimetype": "text/x-python",
   "name": "python",
   "nbconvert_exporter": "python",
   "pygments_lexer": "ipython3",
   "version": "3.8.5"
  }
 },
 "nbformat": 4,
 "nbformat_minor": 4
}
