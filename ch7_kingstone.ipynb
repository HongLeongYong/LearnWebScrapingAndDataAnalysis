{
 "cells": [
  {
   "cell_type": "code",
   "execution_count": 9,
   "metadata": {},
   "outputs": [
    {
     "name": "stdout",
     "output_type": "stream",
     "text": [
      "電影院的哲學家（限量簽名版）：從感動的對白，找到理想的自己。\n"
     ]
    }
   ],
   "source": [
    "import requests\n",
    "from bs4 import BeautifulSoup\n",
    "\n",
    "# 這是禮貌的爬蟲形式，用 user agent\n",
    "headers = {'User-Agent': 'Mozilla/5.0 (Windows NT 10.0; Win64; x64) '\n",
    "                         'AppleWebKit/537.36 (KHTML, like Gecko) '\n",
    "                         'Chrome/66.0.3359.181 Safari/537.36'}\n",
    "resp = requests.get('https://www.kingstone.com.tw/basic/2019870145313?zone=book&lid=book_index_booknew',headers = headers)\n",
    "soup = BeautifulSoup(resp.text, 'html.parser')\n",
    "print(soup.find('h1', class_= 'pdname_basic').text)"
   ]
  },
  {
   "cell_type": "code",
   "execution_count": null,
   "metadata": {},
   "outputs": [],
   "source": []
  }
 ],
 "metadata": {
  "kernelspec": {
   "display_name": "Python 3",
   "language": "python",
   "name": "python3"
  },
  "language_info": {
   "codemirror_mode": {
    "name": "ipython",
    "version": 3
   },
   "file_extension": ".py",
   "mimetype": "text/x-python",
   "name": "python",
   "nbconvert_exporter": "python",
   "pygments_lexer": "ipython3",
   "version": "3.8.5"
  }
 },
 "nbformat": 4,
 "nbformat_minor": 4
}
