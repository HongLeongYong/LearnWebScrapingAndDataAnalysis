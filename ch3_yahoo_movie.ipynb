{
 "cells": [
  {
   "cell_type": "code",
   "execution_count": 2,
   "metadata": {},
   "outputs": [],
   "source": [
    "import requests\n",
    "from bs4 import BeautifulSoup"
   ]
  },
  {
   "cell_type": "code",
   "execution_count": 7,
   "metadata": {},
   "outputs": [],
   "source": [
    "# yahoo 電影的網址後面都是那一部電影的電影ID，所以分析後來後，能方便使用\n",
    "# https://movies.yahoo.com.tw/movieinfo_main/%E7%84%A1%E5%90%8D%E5%BC%92-nobody-11126\n",
    "# 無名弒 的電影 ID 就是 11126\n",
    "\n",
    "def get_movie_id(url):\n",
    "    try:\n",
    "        movie_id = url.split('.html')[0].split('-')[-1]\n",
    "    except:\n",
    "        movie_id = url\n",
    "    return movie_id"
   ]
  },
  {
   "cell_type": "code",
   "execution_count": 8,
   "metadata": {},
   "outputs": [
    {
     "name": "stdout",
     "output_type": "stream",
     "text": [
      "11126\n"
     ]
    }
   ],
   "source": [
    "url = 'https://movies.yahoo.com.tw/movieinfo_main/%E7%84%A1%E5%90%8D%E5%BC%92-nobody-11126'\n",
    "print(get_movie_id(url))"
   ]
  },
  {
   "cell_type": "code",
   "execution_count": null,
   "metadata": {},
   "outputs": [],
   "source": []
  }
 ],
 "metadata": {
  "kernelspec": {
   "display_name": "Python 3",
   "language": "python",
   "name": "python3"
  },
  "language_info": {
   "codemirror_mode": {
    "name": "ipython",
    "version": 3
   },
   "file_extension": ".py",
   "mimetype": "text/x-python",
   "name": "python",
   "nbconvert_exporter": "python",
   "pygments_lexer": "ipython3",
   "version": "3.8.5"
  }
 },
 "nbformat": 4,
 "nbformat_minor": 4
}
