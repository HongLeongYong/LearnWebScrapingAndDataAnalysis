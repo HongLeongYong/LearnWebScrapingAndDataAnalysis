{
 "cells": [
  {
   "cell_type": "code",
   "execution_count": null,
   "metadata": {},
   "outputs": [],
   "source": [
    "import requests\n",
    "from bs4 import BeautifulSoup\n",
    "import time\n",
    "import json"
   ]
  },
  {
   "cell_type": "code",
   "execution_count": null,
   "metadata": {},
   "outputs": [],
   "source": [
    "def get_web_page(url):\n",
    "    resp = requests.get(\n",
    "    url = url,\n",
    "    cookies = {'over18':'1'}  # 告知 Server 已回答滿18歲的問題\n",
    "    )\n",
    "    if resp.status_code != 200:\n",
    "        print('Invalid url:',resp.url)\n",
    "    else:\n",
    "        return resp.text"
   ]
  },
  {
   "cell_type": "code",
   "execution_count": 38,
   "metadata": {},
   "outputs": [],
   "source": [
    "def get_articles(dom,date):\n",
    "    soup = BeautifulSoup(dom, 'html5lib')\n",
    "    \n",
    "    # 取得上一頁的連接\n",
    "    paging_div = soup.find('div','btn-group btn-group-paging')\n",
    "    prev_url = paging_div.find_all('a')[1]['href'] # 從0開始，1是指按鈕上頁\n",
    "    \n",
    "    articles = [] #儲存取得的文章資料\n",
    "    divs = soup.find_all('div','r-ent')\n",
    "    for d in divs:\n",
    "        if d.find('div','date').text.strip() ==  date: #發文日期正確\n",
    "            # 取得推文數\n",
    "            push_count = 0\n",
    "            push_str = d.find('div','nrec').text\n",
    "            if push_str:\n",
    "                try:\n",
    "                    push_count = int(push_str) # 轉換字串為數字\n",
    "                except ValueError:\n",
    "                    # 若轉換失敗，可能是' 爆' 或 x1, x2,...\n",
    "                    # 若不是， 不做任何事， push_count 保持為 0\n",
    "                    if push_str == '爆':\n",
    "                        push_count = 99\n",
    "                    elif push_str.startswith('X'):\n",
    "                        push_count = -10\n",
    "                        \n",
    "            # 取得文章連接及標題\n",
    "            if d.find('a'): #有超鏈接，表示文章存在，未被刪除\n",
    "                href = d.find('a')['href']\n",
    "                title = d.find('a').text\n",
    "                author = d.find('div','author').text if d.find('div','author') else ''\n",
    "                articles.append({\n",
    "                    'title' : title,\n",
    "                    'href' : href,\n",
    "                    'push_count' : push_count,\n",
    "                    'author' : author\n",
    "                })\n",
    "    return articles, prev_url"
   ]
  },
  {
   "cell_type": "code",
   "execution_count": 44,
   "metadata": {},
   "outputs": [
    {
     "name": "stdout",
     "output_type": "stream",
     "text": [
      "今天有 11 篇文章\n",
      " 熱門文章(> 50 推:):\n"
     ]
    }
   ],
   "source": [
    "PTT_URL = 'https://www.ptt.cc'\n",
    "current_page = get_web_page(PTT_URL + '/bbs/Headphone/index.html')\n",
    "\n",
    "if current_page:\n",
    "    \n",
    "    articles = [] # 全部的今日文章\n",
    "    \n",
    "    # 今天日期，去掉開頭的 '0' 以符合PTT網站格式\n",
    "    today = time.strftime('%m/%d').lstrip('0')\n",
    "    \n",
    "    # 目前頁面的今日文章\n",
    "    current_articles,prev_url = get_articles(current_page,today)\n",
    "    \n",
    "    # 若目前頁面有今日文章則加入 articles, 並回到上一頁繼續尋找是否有今日文章\n",
    "    while current_articles:\n",
    "        articles += current_articles\n",
    "        current_page = get_web_page(PTT_URL + prev_url)\n",
    "        current_articles, prev_url = get_articles(current_page, today)\n",
    "        \n",
    "    # 儲存或處理文章資訊\n",
    "    print('今天有', len(articles),'篇文章')\n",
    "    threshold = 50\n",
    "    print(' 熱門文章(> %d 推:):' % (threshold)) # 大於50的推薦熱門文章\n",
    "    for a in articles:\n",
    "        if int(a['push_count']) > threshold:\n",
    "            print(a)\n",
    "    # 關於 json.dump https://docs.python.org/zh-tw/3/library/json.html\n",
    "    with open('Headphone.json','w', encoding = 'utf-8') as f:\n",
    "        json.dump(articles, f , indent = 2 , sort_keys = True , ensure_ascii = False)"
   ]
  },
  {
   "cell_type": "code",
   "execution_count": null,
   "metadata": {},
   "outputs": [],
   "source": []
  }
 ],
 "metadata": {
  "kernelspec": {
   "display_name": "Python 3",
   "language": "python",
   "name": "python3"
  },
  "language_info": {
   "codemirror_mode": {
    "name": "ipython",
    "version": 3
   },
   "file_extension": ".py",
   "mimetype": "text/x-python",
   "name": "python",
   "nbconvert_exporter": "python",
   "pygments_lexer": "ipython3",
   "version": "3.8.5"
  }
 },
 "nbformat": 4,
 "nbformat_minor": 5
}
