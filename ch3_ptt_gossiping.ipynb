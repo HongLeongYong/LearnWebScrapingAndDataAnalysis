{
 "cells": [
  {
   "cell_type": "code",
   "execution_count": 2,
   "id": "seventh-allen",
   "metadata": {},
   "outputs": [],
   "source": [
    "import requests\n",
    "from bs4 import BeautifulSoup"
   ]
  },
  {
   "cell_type": "code",
   "execution_count": 3,
   "id": "prescription-pizza",
   "metadata": {},
   "outputs": [
    {
     "data": {
      "text/plain": [
       "'<!DOCTYPE html>\\n<html>\\n\\t<head>\\n\\t\\t<meta charset=\"utf-8\">\\n\\t\\t\\n\\n<meta name=\"viewport\" content=\"width=device-width, initial-scale=1\">\\n\\n<title>[情報] 日清再起之ONE PIECE高中生紀念攝影 - 看板 BOC - 批踢踢實業坊</title>\\n<meta name=\"robots\" content=\"all\">\\n<meta name=\"keywords\" content=\"Ptt BBS 批踢踢\">\\n<meta name=\"description\" content=\"原本以為去年就結束的企劃，沒想到今年一個不注意又出了新篇\\nhttps://www.youtube.com/watch?v=QZFvnrrgeHc\\n2019年。カップヌードルは、すべての青春を応援する。\\nその青さが、熱量が、いつだって時代を前に進めてきたから。\\n2019年，日清杯麵要為所有的青春應援。\\n\">\\n<meta property=\"og:site_name\" content=\"Ptt 批踢踢實業坊\">\\n<meta property=\"og:title\" content=\"[情報] 日清再起之ONE PIECE高中生紀念攝影\">\\n<meta property=\"og:description\" content=\"原本以為去年就結束的企劃，沒想到今年一個不注意又出了新篇\\nhttps://www.youtube.com/watch?v=QZFvnrrgeHc\\n2019年。カップヌードルは、すべての青春を応援する。\\nその青さが、熱量が、いつだって時代を前に進めてきたから。\\n2019年，日清杯麵要為所有的青春應援。\\n\">\\n<link rel=\"canonical\" href=\"https://www.ptt.cc/bbs/BOC/M.1558511521.A.736.html\">\\n\\n<link rel=\"stylesheet\" type=\"text/css\" href=\"//images.ptt.cc/bbs/v2.27/bbs-common.css\">\\n<link rel=\"stylesheet\" type=\"text/css\" href=\"//images.ptt.cc/bbs/v2.27/bbs-base.css\" media=\"screen\">\\n<link rel=\"stylesheet\" type=\"text/css\" href=\"//images.ptt.cc/bbs/v2.27/bbs-custom.css\">\\n<link rel=\"stylesheet\" type=\"text/css\" href=\"//images.ptt.cc/bbs/v2.27/pushstream.css\" media=\"screen\">\\n<link rel=\"stylesheet\" type=\"text/css\" href=\"//images.ptt.cc/bbs/v2.27/bbs-print.css\" media=\"print\">\\n\\n\\n\\n\\n\\t</head>\\n    <body>\\n\\t\\t\\n<div id=\"topbar-container\">\\n\\t<div id=\"topbar\" class=\"bbs-content\">\\n\\t\\t<a id=\"logo\" href=\"/bbs/\">批踢踢實業坊</a>\\n\\t\\t<span>&rsaquo;</span>\\n\\t\\t<a class=\"board\" href=\"/bbs/BOC/index.html\"><span class=\"board-label\">看板 </span>BOC</a>\\n\\t\\t<a class=\"right small\" href=\"/about.html\">關於我們</a>\\n\\t\\t<a class=\"right small\" href=\"/contact.html\">聯絡資訊</a>\\n\\t</div>\\n</div>\\n<div id=\"navigation-container\">\\n\\t<div id=\"navigation\" class=\"bbs-content\">\\n\\t\\t<a class=\"board\" href=\"/bbs/BOC/index.html\">返回看板</a>\\n\\t\\t<div class=\"bar\"></div>\\n\\t</div>\\n</div>\\n<div id=\"main-container\">\\n    <div id=\"main-content\" class=\"bbs-screen bbs-content\"><div class=\"article-metaline\"><span class=\"article-meta-tag\">作者</span><span class=\"article-meta-value\">lovingsky (三宅 猫)</span></div><div class=\"article-metaline-right\"><span class=\"article-meta-tag\">看板</span><span class=\"article-meta-value\">BOC</span></div><div class=\"article-metaline\"><span class=\"article-meta-tag\">標題</span><span class=\"article-meta-value\">[情報] 日清再起之ONE PIECE高中生紀念攝影</span></div><div class=\"article-metaline\"><span class=\"article-meta-tag\">時間</span><span class=\"article-meta-value\">Wed May 22 15:51:53 2019</span></div>\\n\\n原本以為去年就結束的企劃，沒想到今年一個不注意又出了新篇\\n\\n<a href=\"https://www.youtube.com/watch?v=QZFvnrrgeHc\" target=\"_blank\" rel=\"nofollow\">https://www.youtube.com/watch?v=QZFvnrrgeHc</a>\\n<div class=\"richcontent\"><div class=\"resize-container\"><div class=\"resize-content\"><iframe class=\"youtube-player\" type=\"text/html\" src=\"//www.youtube.com/embed/QZFvnrrgeHc\" frameborder=\"0\" allowfullscreen></iframe></div></div></div>\\n\\n<span class=\"f6\">2019年。カップヌードルは、すべての青春を応援する。</span>\\n<span class=\"f6\">その青さが、熱量が、いつだって時代を前に進めてきたから。</span>\\n\\n2019年，日清杯麵要為所有的青春應援。\\n為了讓這份青澀與熱量，不論何時都可以在時代中奮力向前。\\n\\n<span class=\"f6\">第１弾はワンピース ゾロの青春。</span>\\n<span class=\"f6\">もしも、ワンピースの登場人物が、この現代で、同じ高校で、学生生活を送っていたら？</span>\\n<span class=\"f6\">そんな「もしも」を描く、ワンピースのパラレル・ワールド。</span>\\n<span class=\"f6\">青くて、アツい、冒険の夜明けがやってくる。</span>\\n\\n第一彈是ONE PIECE 索隆的青春。\\n如果ONE PIECE的登場人物，都在現代的高中裡一同度過學生生活的話？\\n－－將這個「如果」描述出來的ONE PIECE的平行世界。\\n青澀、熾熱、冒險的黎明就要到來。\\n\\n<span class=\"f6\">HUNGRY DAYS\\u3000アオハルかよ。</span>\\n\\nHUNGRY DAYS，是青春唷。\\n\\nXX\\n\\n這麼青春的索隆學園我可以！！！！(被拖出去\\n\\n不對啦，記念撮影真的聽幾次都豪豪聽喔～\\n\\n--\\n\\n <span class=\"f6\">君は笑っていた\\u3000僕だってそうだった\\u3000終わる魔法の外に向けて</span>\\n <span class=\"hl\">今僕がいる未来に向けて</span>\\n\\n \\u3000\\u3000\\u3000\\u3000\\u3000\\u3000\\u3000\\u3000\\u3000\\u3000\\u3000\\u3000\\u3000\\u3000\\u3000\\u3000<a href=\"https://lovingsky39.wordpress.com/\" target=\"_blank\" rel=\"nofollow\"><span class=\"f0 hl\">https://lovingsky39.wordpress.com/</span></a> <span class=\"f6 hl\">阿貓</span><span class=\"f6\">胡言亂語</span>\\n\\n--\\n<span class=\"f2\">※ 發信站: 批踢踢實業坊(ptt.cc), 來自: 111.240.36.104\\n</span><span class=\"f2\">※ 文章網址: <a href=\"https://www.ptt.cc/bbs/BOC/M.1558511521.A.736.html\" target=\"_blank\" rel=\"nofollow\">https://www.ptt.cc/bbs/BOC/M.1558511521.A.736.html</a>\\n</span><div class=\"push\"><span class=\"hl push-tag\">推 </span><span class=\"f3 hl push-userid\">mizuto</span><span class=\"f3 push-content\">: アオハルかよ！</span><span class=\"push-ipdatetime\"> 05/23 00:47\\n</span></div></div>\\n    \\n    <div id=\"article-polling\" data-pollurl=\"/poll/BOC/M.1558511521.A.736.html?cacheKey=2084-742746235&amp;offset=1461&amp;offset-sig=ca0f55e45d46300a30b1ec8c9b4a100214f4c197\" data-longpollurl=\"/v1/longpoll?id=6e9f584d35bce5e8c03af3bbd71a16181c7f3db3\" data-offset=\"1461\"></div>\\n    \\n\\n    \\n</div>\\n\\n\\t\\t\\n\\n<script>\\n  (function(i,s,o,g,r,a,m){i[\\'GoogleAnalyticsObject\\']=r;i[r]=i[r]||function(){\\n  (i[r].q=i[r].q||[]).push(arguments)},i[r].l=1*new Date();a=s.createElement(o),\\n  m=s.getElementsByTagName(o)[0];a.async=1;a.src=g;m.parentNode.insertBefore(a,m)\\n  })(window,document,\\'script\\',\\'https://www.google-analytics.com/analytics.js\\',\\'ga\\');\\n\\n  ga(\\'create\\', \\'UA-32365737-1\\', {\\n    cookieDomain: \\'ptt.cc\\',\\n    legacyCookieDomain: \\'ptt.cc\\'\\n  });\\n  ga(\\'send\\', \\'pageview\\');\\n</script>\\n\\n\\n\\t\\t\\n<script src=\"//ajax.googleapis.com/ajax/libs/jquery/2.1.1/jquery.min.js\"></script>\\n<script src=\"//images.ptt.cc/bbs/v2.27/bbs.js\"></script>\\n\\n    </body>\\n</html>\\n'"
      ]
     },
     "execution_count": 3,
     "metadata": {},
     "output_type": "execute_result"
    }
   ],
   "source": [
    "def get_web_page(url):\n",
    "    resp = requests.get(\n",
    "    url = url,\n",
    "    cookies = {'over18':'1'}  # 告知 Server 已回答滿18歲的問題\n",
    "    )\n",
    "    if resp.status_code != 200:\n",
    "        print('Invalid url:',resp.url)\n",
    "    else:\n",
    "        return resp.text\n",
    "\n",
    "get_web_page('https://www.ptt.cc/bbs/BOC/M.1558511521.A.736.html')"
   ]
  },
  {
   "cell_type": "code",
   "execution_count": null,
   "id": "critical-ghost",
   "metadata": {},
   "outputs": [],
   "source": []
  }
 ],
 "metadata": {
  "kernelspec": {
   "display_name": "Python 3",
   "language": "python",
   "name": "python3"
  },
  "language_info": {
   "codemirror_mode": {
    "name": "ipython",
    "version": 3
   },
   "file_extension": ".py",
   "mimetype": "text/x-python",
   "name": "python",
   "nbconvert_exporter": "python",
   "pygments_lexer": "ipython3",
   "version": "3.8.8"
  }
 },
 "nbformat": 4,
 "nbformat_minor": 5
}
