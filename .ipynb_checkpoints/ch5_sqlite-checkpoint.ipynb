{
 "cells": [
  {
   "cell_type": "code",
   "execution_count": 1,
   "metadata": {},
   "outputs": [],
   "source": [
    "import sqlite3, csv"
   ]
  },
  {
   "cell_type": "code",
   "execution_count": 2,
   "metadata": {},
   "outputs": [],
   "source": [
    "def execute_db(fname,sql_cmd):\n",
    "    conn = sqlite3.connect(fname)\n",
    "    c = conn.cursor()\n",
    "    c.execute(sql_cmd)\n",
    "    conn.commit()\n",
    "    conn.close()\n",
    "    \n",
    "db_name = 'db2.sqlite'\n",
    "cmd = 'CREATE TABLE record (id INTEGER PRIMARY KEY AUTOINCREMENT, item TEXT, price INTEGER, shop TEXT)'\n",
    "execute_db(db_name, cmd)"
   ]
  },
  {
   "cell_type": "code",
   "execution_count": 5,
   "metadata": {},
   "outputs": [],
   "source": [
    "cmd2 = 'INSERT INTO record(item,price,shop) VALUES (\"PS4測試機\",1000,\"測試賣家\")'\n",
    "execute_db(db_name,cmd2)"
   ]
  },
  {
   "cell_type": "code",
   "execution_count": 6,
   "metadata": {},
   "outputs": [],
   "source": [
    "with open('ezprice.csv','r',encoding= 'utf-8')as f:\n",
    "    reader = csv.DictReader(f)\n",
    "    for row in reader:\n",
    "        cmd3 = 'INSERT INTO record(item, price, shop) VALUES (\"%s\",%d, \"%s\")'%(row['品項'], int(row['價格']), row['商家'])\n",
    "        execute_db(db_name,cmd3)\n",
    "    "
   ]
  },
  {
   "cell_type": "code",
   "execution_count": 11,
   "metadata": {},
   "outputs": [
    {
     "name": "stdout",
     "output_type": "stream",
     "text": [
      "(2, 'SONY PS4主機(500G黑) HITS5 同捆組', 9980, 'isunfar愛順發3C購物網')\n",
      "(23, 'SONY PS4主機(500G黑) HITS5 同捆組', 9980, 'isunfar愛順發3C購物網')\n",
      "(25, 'SONY PS4主機(500G黑) HITS5 同捆組', 9980, 'isunfar愛順發3C購物網')\n",
      "(46, 'SONY PS4主機(500G黑) HITS5 同捆組', 9980, 'isunfar愛順發3C購物網')\n"
     ]
    }
   ],
   "source": [
    "def select_db(fname, sql_cmd):\n",
    "    conn = sqlite3.connect(fname)\n",
    "    c = conn.cursor()\n",
    "    c.execute(sql_cmd)\n",
    "    rows = c.fetchall()\n",
    "    conn.close()\n",
    "    return rows\n",
    "\n",
    "db_name = 'db2.sqlite'\n",
    "cmd4 = 'SELECT * FROM record WHERE shop=\"isunfar愛順發3C購物網\" '\n",
    "for row in select_db(db_name,cmd4):\n",
    "    print(row)"
   ]
  },
  {
   "cell_type": "code",
   "execution_count": null,
   "metadata": {},
   "outputs": [],
   "source": []
  }
 ],
 "metadata": {
  "kernelspec": {
   "display_name": "Python 3",
   "language": "python",
   "name": "python3"
  },
  "language_info": {
   "codemirror_mode": {
    "name": "ipython",
    "version": 3
   },
   "file_extension": ".py",
   "mimetype": "text/x-python",
   "name": "python",
   "nbconvert_exporter": "python",
   "pygments_lexer": "ipython3",
   "version": "3.8.5"
  }
 },
 "nbformat": 4,
 "nbformat_minor": 4
}
