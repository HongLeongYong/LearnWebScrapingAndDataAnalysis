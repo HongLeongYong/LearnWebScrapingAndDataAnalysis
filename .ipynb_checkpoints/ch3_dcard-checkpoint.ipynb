{
 "cells": [
  {
   "cell_type": "code",
   "execution_count": 12,
   "metadata": {},
   "outputs": [],
   "source": [
    "import requests\n",
    "from bs4 import BeautifulSoup\n",
    "import re"
   ]
  },
  {
   "cell_type": "code",
   "execution_count": 53,
   "metadata": {},
   "outputs": [
    {
     "name": "stdout",
     "output_type": "stream",
     "text": [
      "1. 從來沒有這麼如此討厭過一個公眾人物\n",
      "https://www.dcard.tw/f/entertainer/p/235779559\n",
      "2. 更/（附上新聞監視器畫面）就在今天，我差點被殺死了\n",
      "https://www.dcard.tw/f/trending/p/235784230\n",
      "3. 歷年渣男代表\n",
      "https://www.dcard.tw/f/talk/p/235783474\n",
      "4. 路易莎店員的驚喜\n",
      "https://www.dcard.tw/f/funny/p/235779826\n",
      "5. 這樣80元!!!!\n",
      "https://www.dcard.tw/f/food/p/235779132\n",
      "6. 謝和弦蠻會挑的\n",
      "https://www.dcard.tw/f/funny/p/235780381\n",
      "7. 鄧福如 HowHow聲明\n",
      "https://www.dcard.tw/f/entertainer/p/235779729\n",
      "8. 酸民閉嘴！采子即將重新復出！！！\n",
      "https://www.dcard.tw/f/mood/p/235778602\n",
      "9. 韓語入侵台灣？\n",
      "https://www.dcard.tw/f/entertainer/p/235779546\n",
      "10. #問 Howhow和Afu他們發生什麼事了\n",
      "https://www.dcard.tw/f/youtuber/p/235779807\n",
      "11. 40萬放7年變100萬\n",
      "https://www.dcard.tw/f/money/p/235784113\n",
      "12. 法院自助餐，這樣35！\n",
      "https://www.dcard.tw/f/food/p/235785686\n",
      "13. 荳荳是不是成功洗白了？\n",
      "https://www.dcard.tw/f/talk/p/235784732\n",
      "14. 那對爸媽不是酷炫的爸媽喔  今天才知道\n",
      "https://www.dcard.tw/f/youtuber/p/235782362\n",
      "15. 小胸比基尼+內衣分享\n",
      "https://www.dcard.tw/f/girl/p/235784583\n",
      "16. 不要再當貓中途了\n",
      "https://www.dcard.tw/f/pet/p/235780729\n",
      "17. MAMAMOO輝人這次回歸的嗓音狀態\n",
      "https://www.dcard.tw/f/entertainer/p/235783969\n",
      "18. Howhow將採取法律行動面對不實指控\n",
      "https://www.dcard.tw/f/youtuber/p/235779739\n",
      "19. 盤點結婚費用 (文長慎入）\n",
      "https://www.dcard.tw/f/marriage/p/235779869\n",
      "20. 被媽媽撞見電腦裡的裸男\n",
      "https://www.dcard.tw/f/funny/p/235780351\n",
      "21. 佛系減肥 褲子越來越鬆了♥️\n",
      "https://www.dcard.tw/f/weight_loss/p/235779245\n",
      "22. #分享 寶雅進16 brand了！\n",
      "https://www.dcard.tw/f/makeup/p/235781506\n",
      "23. 女生還是不要主動\n",
      "https://www.dcard.tw/f/relationship/p/235781665\n",
      "24. #分享 我的一些健身穿搭(還有外搭)\n",
      "https://www.dcard.tw/f/fitness/p/235782725\n",
      "25. 原來何孟遠事件早有預謀?\n",
      "https://www.dcard.tw/f/entertainer/p/235781236\n",
      "26. 我媽倒熱水在冰上面\n",
      "https://www.dcard.tw/f/food/p/235782598\n",
      "27. 這樣才36元！小7打7折還加送一瓶飲料！根本撿到寶😭\n",
      "https://www.dcard.tw/f/food/p/235783315\n",
      "28. 會挖耳屎的進來\n",
      "https://www.dcard.tw/f/funny/p/235782346\n",
      "29. 星巴克喝一半就丟掉\n",
      "https://www.dcard.tw/f/talk/p/235781857\n",
      "30. 室友是6隻貓\n",
      "https://www.dcard.tw/f/pet/p/235784586\n"
     ]
    }
   ],
   "source": [
    "URL = 'https://www.dcard.tw/f'\n",
    "resp = requests.get(URL)\n",
    "soup = BeautifulSoup(resp.text,'html.parser')\n",
    "paragraphs = soup.find('div','sc-1db29sy-0 jLfDhx').find_all('a','tgn9uw-3 cUGTXH')\n",
    "count = 1 \n",
    "for pa in paragraphs:\n",
    "    # 顯示標題\n",
    "    print(str(count) + '. ' + pa.span.text)\n",
    "    # 顯示網址\n",
    "    print('https://www.dcard.tw'+ pa['href'])\n",
    "    count+= 1\n",
    "    \n",
    "# articles = []\n",
    "# 利用 regex 找出所有 'PostList_wrapper_'開頭的div\n",
    "# for div in soup.find_all('div',re.compile('tgn9uw-3 cUGTXH')):\n",
    "#     articles.append(\n",
    "#     {\n",
    "#         'title': div.h3.text.strip(),\n",
    "#         'exceprpt' : div.find_all('div')[0].text.strip(),\n",
    "#         'bookmark' : re.findall(r'\\d+',div.find_all('div')[1].text.strip())[0],\n",
    "#         'response' : re.findall(r'\\d+',div.find_all('div')[1].text.strip())[1],\n",
    "#         'href': div.parent.parent['href']\n",
    "#     })\n",
    "    \n",
    "#     print('共 %d 篇' %(len(articles)))\n",
    "#     for a in articles[:3]:\n",
    "#         print(a)\n"
   ]
  },
  {
   "cell_type": "code",
   "execution_count": null,
   "metadata": {},
   "outputs": [],
   "source": []
  },
  {
   "cell_type": "code",
   "execution_count": null,
   "metadata": {},
   "outputs": [],
   "source": []
  }
 ],
 "metadata": {
  "kernelspec": {
   "display_name": "Python 3",
   "language": "python",
   "name": "python3"
  },
  "language_info": {
   "codemirror_mode": {
    "name": "ipython",
    "version": 3
   },
   "file_extension": ".py",
   "mimetype": "text/x-python",
   "name": "python",
   "nbconvert_exporter": "python",
   "pygments_lexer": "ipython3",
   "version": "3.8.5"
  }
 },
 "nbformat": 4,
 "nbformat_minor": 4
}
