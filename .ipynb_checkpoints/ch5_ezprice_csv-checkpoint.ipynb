{
 "cells": [
  {
   "cell_type": "code",
   "execution_count": 5,
   "metadata": {},
   "outputs": [],
   "source": [
    "import requests\n",
    "from bs4 import BeautifulSoup\n",
    "import re"
   ]
  },
  {
   "cell_type": "code",
   "execution_count": 8,
   "metadata": {},
   "outputs": [],
   "source": [
    "query = 'ps4主機'\n",
    "page = requests.get('https://ezprice.com.tw/s/' + query).text\n",
    "# print(page)\n",
    "soup = BeautifulSoup(page,'html5lib')\n",
    "items = list()\n",
    "for div in soup.find_all('div','search-rst clearfix'):\n",
    "    item = list()\n",
    "    # 先取得價格字串， 再移除其中的非數字部分（以空白字串取代非0-9的字元）\n",
    "    price = div.find('span','num').text\n",
    "    price = re.sub(r'[^0-9]', '', price)\n",
    "    item.append(price)\n",
    "    # 若"
   ]
  },
  {
   "cell_type": "code",
   "execution_count": null,
   "metadata": {},
   "outputs": [],
   "source": []
  }
 ],
 "metadata": {
  "kernelspec": {
   "display_name": "Python 3",
   "language": "python",
   "name": "python3"
  },
  "language_info": {
   "codemirror_mode": {
    "name": "ipython",
    "version": 3
   },
   "file_extension": ".py",
   "mimetype": "text/x-python",
   "name": "python",
   "nbconvert_exporter": "python",
   "pygments_lexer": "ipython3",
   "version": "3.8.5"
  }
 },
 "nbformat": 4,
 "nbformat_minor": 4
}
