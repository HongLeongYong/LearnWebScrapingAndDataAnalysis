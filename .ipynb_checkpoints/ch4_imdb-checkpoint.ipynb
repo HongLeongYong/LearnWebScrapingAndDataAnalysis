{
 "cells": [
  {
   "cell_type": "code",
   "execution_count": 6,
   "metadata": {},
   "outputs": [],
   "source": [
    "import json\n",
    "import requests\n",
    "import math\n",
    "from collections import Counter"
   ]
  },
  {
   "cell_type": "code",
   "execution_count": 7,
   "metadata": {},
   "outputs": [],
   "source": [
    "def get_data(url):\n",
    "    data = json.loads(requests.get(url).text)\n",
    "    if data['Response'] == 'True':\n",
    "        return data\n",
    "    else:\n",
    "        return None"
   ]
  },
  {
   "cell_type": "code",
   "execution_count": 8,
   "metadata": {},
   "outputs": [],
   "source": [
    "API_KEY = '4afe4bbb'\n",
    "OMDB_URL = 'http://www.omdbapi.com/?apikey=' + API_KEY\n",
    "\n",
    "def search_ids_by_keyword(keywords):\n",
    "    movie_ids = list()\n",
    "    query = '+'.join(keywords.split()) # 'iron man' 變成 iron+man\n",
    "    url = OMDB_URL+'&s='+query\n",
    "    data = get_data(url)\n",
    "    \n",
    "    if data:\n",
    "        # 取得第一頁電影 id\n",
    "        for item in data['Search']:\n",
    "            movie_ids.append(item['imdbID'])\n",
    "        # 取得搜尋結果總數並計算頁數\n",
    "        total = int(data['totalResults'])\n",
    "        num_pages = math.ceil(total/10)\n",
    "        \n",
    "        # 取得第二頁以後的資料\n",
    "        for i in range(2,num_pages+1):\n",
    "            url = OMDB_URL + '&s=' + query + '&page=' + str(i)\n",
    "            data = get_data(url)\n",
    "            if data:\n",
    "                for item in data['Search']:\n",
    "                    movie_ids.append(item['imdbID'])\n",
    "    return movie_ids        "
   ]
  },
  {
   "cell_type": "code",
   "execution_count": 9,
   "metadata": {},
   "outputs": [],
   "source": [
    "def search_by_id(movie_id):\n",
    "    url = OMDB_URL + '&i='+ movie_id\n",
    "    data = get_data(url)\n",
    "    return data if data else None\n"
   ]
  },
  {
   "cell_type": "code",
   "execution_count": 10,
   "metadata": {},
   "outputs": [
    {
     "name": "stdout",
     "output_type": "stream",
     "text": [
      "關鍵字 iron man 共有 91 部影片\n",
      "取得影片資料中...\n",
      " 影片資料範例\n",
      "{'Title': 'Iron Man', 'Year': '2008', 'Rated': 'PG-13', 'Released': '02 May 2008', 'Runtime': '126 min', 'Genre': 'Action, Adventure, Sci-Fi', 'Director': 'Jon Favreau', 'Writer': 'Mark Fergus (screenplay), Hawk Ostby (screenplay), Art Marcum (screenplay), Matt Holloway (screenplay), Stan Lee (characters), Don Heck (characters), Larry Lieber (characters), Jack Kirby (characters)', 'Actors': 'Robert Downey Jr., Terrence Howard, Jeff Bridges, Gwyneth Paltrow', 'Plot': 'After being held captive in an Afghan cave, billionaire engineer Tony Stark creates a unique weaponized suit of armor to fight evil.', 'Language': 'English, Persian, Urdu, Arabic, Kurdish, Hindi, Hungarian', 'Country': 'USA, Canada', 'Awards': 'Nominated for 2 Oscars. Another 21 wins & 71 nominations.', 'Poster': 'https://m.media-amazon.com/images/M/MV5BMTczNTI2ODUwOF5BMl5BanBnXkFtZTcwMTU0NTIzMw@@._V1_SX300.jpg', 'Ratings': [{'Source': 'Internet Movie Database', 'Value': '7.9/10'}, {'Source': 'Rotten Tomatoes', 'Value': '94%'}, {'Source': 'Metacritic', 'Value': '79/100'}], 'Metascore': '79', 'imdbRating': '7.9', 'imdbVotes': '952,588', 'imdbID': 'tt0371746', 'Type': 'movie', 'DVD': '23 Nov 2015', 'BoxOffice': '$319,034,126', 'Production': 'Marvel Enterprises, Paramount', 'Website': 'N/A', 'Response': 'True'}\n",
      "{'Title': 'Iron Man 3', 'Year': '2013', 'Rated': 'PG-13', 'Released': '03 May 2013', 'Runtime': '130 min', 'Genre': 'Action, Adventure, Sci-Fi', 'Director': 'Shane Black', 'Writer': 'Drew Pearce (screenplay by), Shane Black (screenplay by), Stan Lee (based on the Marvel comic book by), Don Heck (based on the Marvel comic book by), Larry Lieber (based on the Marvel comic book by), Jack Kirby (based on the Marvel comic book by), Warren Ellis (based on the \"Extremis\" mini-series written by), Adi Granov (based on the \"Extremis\" mini-series illustrated by)', 'Actors': 'Robert Downey Jr., Gwyneth Paltrow, Don Cheadle, Guy Pearce', 'Plot': \"When Tony Stark's world is torn apart by a formidable terrorist called the Mandarin, he starts an odyssey of rebuilding and retribution.\", 'Language': 'English', 'Country': 'USA', 'Awards': 'Nominated for 1 Oscar. Another 20 wins & 64 nominations.', 'Poster': 'https://m.media-amazon.com/images/M/MV5BMjE5MzcyNjk1M15BMl5BanBnXkFtZTcwMjQ4MjcxOQ@@._V1_SX300.jpg', 'Ratings': [{'Source': 'Internet Movie Database', 'Value': '7.1/10'}, {'Source': 'Rotten Tomatoes', 'Value': '79%'}, {'Source': 'Metacritic', 'Value': '62/100'}], 'Metascore': '62', 'imdbRating': '7.1', 'imdbVotes': '766,991', 'imdbID': 'tt1300854', 'Type': 'movie', 'DVD': '22 Nov 2015', 'BoxOffice': '$409,013,994', 'Production': 'Marvel Studios', 'Website': 'N/A', 'Response': 'True'}\n",
      "{'Title': 'Iron Man 2', 'Year': '2010', 'Rated': 'PG-13', 'Released': '07 May 2010', 'Runtime': '124 min', 'Genre': 'Action, Adventure, Sci-Fi', 'Director': 'Jon Favreau', 'Writer': 'Justin Theroux (screenplay), Stan Lee (Marvel comic book), Don Heck (Marvel comic book), Larry Lieber (Marvel comic book), Jack Kirby (Marvel comic book)', 'Actors': 'Robert Downey Jr., Gwyneth Paltrow, Don Cheadle, Scarlett Johansson', 'Plot': \"With the world now aware of his identity as Iron Man, Tony Stark must contend with both his declining health and a vengeful mad man with ties to his father's legacy.\", 'Language': 'English, French, Russian', 'Country': 'USA', 'Awards': 'Nominated for 1 Oscar. Another 7 wins & 43 nominations.', 'Poster': 'https://m.media-amazon.com/images/M/MV5BMTM0MDgwNjMyMl5BMl5BanBnXkFtZTcwNTg3NzAzMw@@._V1_SX300.jpg', 'Ratings': [{'Source': 'Internet Movie Database', 'Value': '7.0/10'}, {'Source': 'Rotten Tomatoes', 'Value': '72%'}, {'Source': 'Metacritic', 'Value': '57/100'}], 'Metascore': '57', 'imdbRating': '7.0', 'imdbVotes': '730,088', 'imdbID': 'tt1228705', 'Type': 'movie', 'DVD': '23 Nov 2015', 'BoxOffice': '$312,433,331', 'Production': 'Marvel Studios', 'Website': 'N/A', 'Response': 'True'}\n",
      " 發行年份分佈: Counter({'2013': 14, '2010': 11, '2008': 7, '2016': 5, '2012': 4, '2014': 4, '2018': 3, '1998': 2, '1931': 2, '2006': 2, '1996': 2, '2004': 2, '1915': 2, '1914': 2, '1989': 1, '2017': 1, '2007': 1, '2015': 1, '1981': 1, '2008–2012': 1, '1994–1996': 1, '1977': 1, '1939': 1, '1956': 1, '1966': 1, '2010–': 1, '1972': 1, '1951': 1, '1993': 1, '1935': 1, '1985': 1, '2020': 1, '1923': 1, '2019': 1, '1928': 1, '1997': 1, '1968–': 1, '1903': 1, '1974': 1, '1925': 1, '1924': 1, '2009': 1, '1983': 1})\n",
      "平均評分: 6.43269230769231\n"
     ]
    }
   ],
   "source": [
    "keyword = 'iron man'\n",
    "m_ids = search_ids_by_keyword(keyword)\n",
    "print('關鍵字 %s 共有 %d 部影片' %(keyword, len(m_ids)))\n",
    "\n",
    "print('取得影片資料中...')\n",
    "movies = list()\n",
    "for m_id in m_ids:\n",
    "    movies.append(search_by_id(m_id))\n",
    "    \n",
    "print(' 影片資料範例')\n",
    "for m in movies[:3]:\n",
    "    print(m)\n",
    "    \n",
    "years = [m['Year'] for m in movies]\n",
    "# collections.Counter() 會統計一個list中各項目出現的次數， 並回傳一個dict\n",
    "year_dist = Counter(years)\n",
    "print(' 發行年份分佈:', year_dist)\n",
    "\n",
    "# 如果該電影的 'imdbRating' 欄位不是 'N/A' 則轉換其值為 float 並加入 ratings內\n",
    "ratings = [float(m['imdbRating']) for m in movies if m['imdbRating'] != 'N/A']\n",
    "print('平均評分:', sum(ratings)/len(ratings))"
   ]
  },
  {
   "cell_type": "code",
   "execution_count": null,
   "metadata": {},
   "outputs": [],
   "source": []
  }
 ],
 "metadata": {
  "kernelspec": {
   "display_name": "Python 3",
   "language": "python",
   "name": "python3"
  },
  "language_info": {
   "codemirror_mode": {
    "name": "ipython",
    "version": 3
   },
   "file_extension": ".py",
   "mimetype": "text/x-python",
   "name": "python",
   "nbconvert_exporter": "python",
   "pygments_lexer": "ipython3",
   "version": "3.8.5"
  }
 },
 "nbformat": 4,
 "nbformat_minor": 4
}
