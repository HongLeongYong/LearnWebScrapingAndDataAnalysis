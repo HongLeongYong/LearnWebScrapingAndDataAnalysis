{
 "cells": [
  {
   "cell_type": "code",
   "execution_count": 1,
   "metadata": {},
   "outputs": [],
   "source": [
    "from bs4 import BeautifulSoup\n",
    "import requests"
   ]
  },
  {
   "cell_type": "code",
   "execution_count": null,
   "metadata": {},
   "outputs": [],
   "source": [
    "def get_web_page(url, stock_id):\n",
    "    # Web Browser User Agents\n",
    "    # https://developers.whatismybrowser.com/useragents/explore/software_type_specific/web-browser/\n",
    "    headers = ('User-Agent':'Mozilla/5.0 (Windows NT 10.0; WOW64) AppleWebKit/537.36 (KHTML, like Gecko) Chrome/72.0.3626.121 Safari/537.36')\n",
    "    resp = requests.get(url+ stock_id , headers = headers)\n",
    "    if resp.status_code != 200:\n",
    "        print('Invalid url:',resp.url)\n",
    "        return None\n",
    "    else:\n",
    "        return resp.text\n",
    "    \n",
    "def get_stock_info(dom):\n",
    "    soup = BeautifulSoup(dom,'html5lib')\n",
    "    stock = dict()\n",
    "    \n",
    "    sections = soup.find_all('g-card-section')\n",
    "    \n",
    "    # 第2個 g-card-section , 取出公司名 與 即時股價資訊\n",
    "    "
   ]
  }
 ],
 "metadata": {
  "kernelspec": {
   "display_name": "Python 3",
   "language": "python",
   "name": "python3"
  },
  "language_info": {
   "codemirror_mode": {
    "name": "ipython",
    "version": 3
   },
   "file_extension": ".py",
   "mimetype": "text/x-python",
   "name": "python",
   "nbconvert_exporter": "python",
   "pygments_lexer": "ipython3",
   "version": "3.8.5"
  }
 },
 "nbformat": 4,
 "nbformat_minor": 4
}
