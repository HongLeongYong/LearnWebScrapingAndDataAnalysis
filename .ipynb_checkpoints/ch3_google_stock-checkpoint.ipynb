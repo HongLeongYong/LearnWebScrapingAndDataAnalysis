{
 "cells": [
  {
   "cell_type": "code",
   "execution_count": 1,
   "metadata": {},
   "outputs": [],
   "source": [
    "from bs4 import BeautifulSoup\n",
    "import requests"
   ]
  },
  {
   "cell_type": "code",
   "execution_count": 34,
   "metadata": {},
   "outputs": [],
   "source": [
    "def get_web_page(url, stock_id):\n",
    "    # Web Browser User Agents\n",
    "    # https://developers.whatismybrowser.com/useragents/explore/software_type_specific/web-browser/\n",
    "    headers = {'User-Agent':'Mozilla/5.0 (Windows NT 10.0; WOW64) AppleWebKit/537.36 (KHTML, like Gecko) Chrome/72.0.3626.121 Safari/537.36'}\n",
    "    resp = requests.get(url + stock_id , headers = headers)\n",
    "    if resp.status_code != 200:\n",
    "        print('Invalid url:',resp.url)\n",
    "        return None\n",
    "    else:\n",
    "        return resp.text\n",
    "    \n",
    "def get_stock_info(dom):\n",
    "    soup = BeautifulSoup(dom,'html5lib')\n",
    "    stock = dict()\n",
    "    \n",
    "    sections = soup.find_all('g-card-section')\n",
    "    \n",
    "    # 第2個 g-card-section , 取出公司名 與 即時股價資訊\n",
    "    stock['name: '] = sections[1].div.text\n",
    "    spans = sections[1].find_all('div', recursive = False)[1].find_all('span')\n",
    "    stock['current_price: '] = spans[0].text\n",
    "    stock['current_change: '] =  spans[4].text\n",
    "    \n",
    "    # 第4個 g-card-section, 有左右兩個 table 分別存放股票資訊\n",
    "    for table in sections[3].find_all('table'):\n",
    "        for tr in table.find_all('tr')[:3]:\n",
    "            key = tr.find_all('td')[0].text.lower().strip()\n",
    "            value = tr.find_all('td')[1].text.strip()\n",
    "            stock[key] = value\n",
    "            \n",
    "    return stock\n",
    "    "
   ]
  },
  {
   "cell_type": "code",
   "execution_count": 40,
   "metadata": {},
   "outputs": [
    {
     "name": "stdout",
     "output_type": "stream",
     "text": [
      "請輸入股票交易碩名稱（例:TWSE/NASDAQ)： nasdaq\n",
      "請輸入公司股票代號（例： 2330/MSFT）：  msft\n",
      "name:  微軟\n",
      "current_price:  255.85 USD\n",
      "current_change:  +2.60 (1.03%)\n",
      "開盤 252.87\n",
      "最高 255.99\n",
      "最低 252.44\n",
      "市值 1.93兆\n",
      "本益比 38.11\n",
      "殖利率 0.88%\n",
      "上次收盤價 253.25\n",
      "52 週高點 255.99\n",
      "52 週低點 162.30\n"
     ]
    }
   ],
   "source": [
    "# 主程式流程\n",
    "G_FINANCE_URL =  'https://www.google.com/search?q='\n",
    "Name_StockExchange = input('請輸入股票交易碩名稱（例:TWSE/NASDAQ)： ')\n",
    "Name_Company= input('請輸入公司股票代號（例： 2330/MSFT）：  ')\n",
    "page = get_web_page(G_FINANCE_URL, Name_StockExchange +':'+Name_Company)\n",
    "\n",
    "if page:\n",
    "    stock = get_stock_info(page)\n",
    "    for k,v in stock.items():\n",
    "        print(k,v)\n"
   ]
  },
  {
   "cell_type": "code",
   "execution_count": null,
   "metadata": {},
   "outputs": [],
   "source": []
  }
 ],
 "metadata": {
  "kernelspec": {
   "display_name": "Python 3",
   "language": "python",
   "name": "python3"
  },
  "language_info": {
   "codemirror_mode": {
    "name": "ipython",
    "version": 3
   },
   "file_extension": ".py",
   "mimetype": "text/x-python",
   "name": "python",
   "nbconvert_exporter": "python",
   "pygments_lexer": "ipython3",
   "version": "3.8.5"
  }
 },
 "nbformat": 4,
 "nbformat_minor": 4
}
