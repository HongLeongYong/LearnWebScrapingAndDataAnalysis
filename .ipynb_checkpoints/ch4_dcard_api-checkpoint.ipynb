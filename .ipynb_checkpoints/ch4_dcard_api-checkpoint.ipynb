{
 "cells": [
  {
   "cell_type": "code",
   "execution_count": null,
   "metadata": {},
   "outputs": [],
   "source": [
    "import requests"
   ]
  },
  {
   "cell_type": "code",
   "execution_count": null,
   "metadata": {},
   "outputs": [],
   "source": [
    "DCARD_URL = 'https://www.dcard.tw/f'\n",
    "\n",
    "def show(post):\n",
    "    for key in ['id','title','excerpt','likeCount','commentCount']:\n",
    "        print('%s: %s' %(key,post[key]))\n",
    "    print('href: %s/f/%s/p/%s' %(DCARD_URL, post['forumAlias'],post['id']))"
   ]
  }
 ],
 "metadata": {
  "kernelspec": {
   "display_name": "Python 3",
   "language": "python",
   "name": "python3"
  },
  "language_info": {
   "codemirror_mode": {
    "name": "ipython",
    "version": 3
   },
   "file_extension": ".py",
   "mimetype": "text/x-python",
   "name": "python",
   "nbconvert_exporter": "python",
   "pygments_lexer": "ipython3",
   "version": "3.8.5"
  }
 },
 "nbformat": 4,
 "nbformat_minor": 4
}
