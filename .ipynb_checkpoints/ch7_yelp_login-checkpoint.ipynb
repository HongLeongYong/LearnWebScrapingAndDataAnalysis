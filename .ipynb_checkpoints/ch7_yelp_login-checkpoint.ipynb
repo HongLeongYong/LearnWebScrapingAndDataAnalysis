{
 "cells": [
  {
   "cell_type": "code",
   "execution_count": 5,
   "metadata": {},
   "outputs": [
    {
     "name": "stdout",
     "output_type": "stream",
     "text": [
      "311506e6f5e55341fb79c51466366236e386301cd2f790d9a6981c884e38be13\n",
      "False\n"
     ]
    }
   ],
   "source": [
    "# 失敗的原因是因為yelp加入了 不是機器人 的選項，目前我還不知道如何破解。\n",
    "import requests\n",
    "from bs4 import BeautifulSoup\n",
    "\n",
    "# 創建 session 物件\n",
    "s = requests.session()\n",
    "\n",
    "# 先瀏覽網頁， 取得 carf token\n",
    "resp = s.get('https://www.yelp.com/login')\n",
    "soup = BeautifulSoup(resp.text, 'html5lib')\n",
    "carf = soup.find('form',id = 'ajax-login').find('input','csrftok')['value']\n",
    "print(carf)\n",
    "\n",
    "# 傳送表單資料並登入\n",
    "form_data = {\n",
    "    'email' : '你的email',\n",
    "    'password' : '你的密碼',\n",
    "    'csrftok' : carf\n",
    "}\n",
    "resp = s.post('https://www.yelp.com/login',data = form_data)\n",
    "\n",
    "# 登入成功後，相關資訊皆保留在 session 物件中， 可以直接索取相關網頁資訊\n",
    "resp = s.get('https://www.yelp.com/user_details')\n",
    "\n",
    "# 確認我的列表餐廳有出現，表示成功取得需要登入才能瀏覽的頁面\n",
    "# 此處請代換 '溏老鴨平價小火鍋' 為自己yelp頁面的餐廳\n",
    "print('溏老鴨平價小火鍋' in resp.text)"
   ]
  },
  {
   "cell_type": "code",
   "execution_count": null,
   "metadata": {},
   "outputs": [],
   "source": []
  }
 ],
 "metadata": {
  "kernelspec": {
   "display_name": "Python 3",
   "language": "python",
   "name": "python3"
  },
  "language_info": {
   "codemirror_mode": {
    "name": "ipython",
    "version": 3
   },
   "file_extension": ".py",
   "mimetype": "text/x-python",
   "name": "python",
   "nbconvert_exporter": "python",
   "pygments_lexer": "ipython3",
   "version": "3.8.5"
  }
 },
 "nbformat": 4,
 "nbformat_minor": 4
}
