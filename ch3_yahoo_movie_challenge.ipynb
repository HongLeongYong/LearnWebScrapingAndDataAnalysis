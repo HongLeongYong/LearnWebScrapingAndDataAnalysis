{
 "cells": [
  {
   "cell_type": "code",
   "execution_count": 22,
   "metadata": {},
   "outputs": [
    {
     "name": "stdout",
     "output_type": "stream",
     "text": [
      "1. 無名弒\n",
      "2. 愛慾情狂 經典數位修復\n",
      "3. 綑著你，困著我 經典數位修復\n",
      "4. 當男人戀愛時\n",
      "5. 南巫\n",
      "6. BTS崛起傳奇\n",
      "7. 盡孝的滋味\n",
      "8. 煙囪小鎮的普佩\n",
      "9. 青春電幻物語：數位修復版\n",
      "10. 男人與他的海\n"
     ]
    }
   ],
   "source": [
    "import requests\n",
    "from bs4 import BeautifulSoup\n",
    "\n",
    "yahoo_thisweek_movie_URL = 'https://movies.yahoo.com.tw/movie_thisweek.html'\n",
    "\n",
    "resp = requests.get(yahoo_thisweek_movie_URL)\n",
    "# html5lib 和 html.parser 是有一些區別的，最明顯的是 html.parser 階層不那麼明顯\n",
    "soup = BeautifulSoup(resp.text,'html5lib')\n",
    "\n",
    "results = soup.find_all('div','release_info_text')\n",
    "\n",
    "count = 0\n",
    "for result in results:\n",
    "    count += 1\n",
    "    print(str(count) + '. ' + result.find('div','release_movie_name').a.text.strip())"
   ]
  },
  {
   "cell_type": "code",
   "execution_count": null,
   "metadata": {},
   "outputs": [],
   "source": []
  }
 ],
 "metadata": {
  "kernelspec": {
   "display_name": "Python 3",
   "language": "python",
   "name": "python3"
  },
  "language_info": {
   "codemirror_mode": {
    "name": "ipython",
    "version": 3
   },
   "file_extension": ".py",
   "mimetype": "text/x-python",
   "name": "python",
   "nbconvert_exporter": "python",
   "pygments_lexer": "ipython3",
   "version": "3.8.5"
  }
 },
 "nbformat": 4,
 "nbformat_minor": 4
}
