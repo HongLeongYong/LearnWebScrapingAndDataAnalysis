{
 "cells": [
  {
   "cell_type": "code",
   "execution_count": 2,
   "metadata": {},
   "outputs": [],
   "source": [
    "import xml.etree.ElementTree as ET"
   ]
  },
  {
   "cell_type": "code",
   "execution_count": 4,
   "metadata": {},
   "outputs": [
    {
     "name": "stdout",
     "output_type": "stream",
     "text": [
      "{'totalResults': '81', 'response': 'True'}\n",
      "{'title': 'Iron Man', 'year': '2008', 'imdbID': 'tt0371746', 'type': 'movie', 'poster': 'https://images-na.ssl-images-amazon.com/images/M/MV5BMTczNTI2ODUwOF5BMl5BanBnXkFtZTcwMTU0NTIzMw@@._V1_SX300.jpg'}\n",
      "{'title': 'Iron Man 3', 'year': '2013', 'imdbID': 'tt1300854', 'type': 'movie', 'poster': 'https://images-na.ssl-images-amazon.com/images/M/MV5BMTkzMjEzMjY1M15BMl5BanBnXkFtZTcwNTMxOTYyOQ@@._V1_SX300.jpg'}\n",
      "{'title': 'Iron Man 2', 'year': '2010', 'imdbID': 'tt1228705', 'type': 'movie', 'poster': 'https://images-na.ssl-images-amazon.com/images/M/MV5BMTM0MDgwNjMyMl5BMl5BanBnXkFtZTcwNTg3NzAzMw@@._V1_SX300.jpg'}\n",
      "{'title': 'The Man in the Iron Mask', 'year': '1998', 'imdbID': 'tt0120744', 'type': 'movie', 'poster': 'https://images-na.ssl-images-amazon.com/images/M/MV5BZjM2YzcxMmQtOTc2Mi00YjdhLWFlZjUtNmFmMDQzYzU2YTk5L2ltYWdlXkEyXkFqcGdeQXVyNTAyODkwOQ@@._V1_SX300.jpg'}\n",
      "{'title': 'The Man with the Iron Fists', 'year': '2012', 'imdbID': 'tt1258972', 'type': 'movie', 'poster': 'https://images-na.ssl-images-amazon.com/images/M/MV5BMTg5ODI3ODkzOV5BMl5BanBnXkFtZTcwMTQxNjUwOA@@._V1_SX300.jpg'}\n",
      "{'title': 'Tetsuo, the Iron Man', 'year': '1989', 'imdbID': 'tt0096251', 'type': 'movie', 'poster': 'https://images-na.ssl-images-amazon.com/images/M/MV5BMTg2MjAzOTU3MF5BMl5BanBnXkFtZTcwOTMxODkyMQ@@._V1_SX300.jpg'}\n",
      "{'title': 'The Invincible Iron Man', 'year': '2007', 'imdbID': 'tt0903135', 'type': 'movie', 'poster': 'https://images-na.ssl-images-amazon.com/images/M/MV5BOGRmZDg1YjMtMDA5YS00OTFjLTgyMjQtNDgzNTIyNzAwZDg0L2ltYWdlL2ltYWdlXkEyXkFqcGdeQXVyNTAyODkwOQ@@._V1_SX300.jpg'}\n",
      "{'title': 'Iron Man: Rise of Technovore', 'year': '2013', 'imdbID': 'tt2654124', 'type': 'movie', 'poster': 'https://images-na.ssl-images-amazon.com/images/M/MV5BNDkzMTM1ODk4N15BMl5BanBnXkFtZTcwNzU0NDYxOQ@@._V1_SX300.jpg'}\n",
      "{'title': 'The Man with the Iron Fists 2', 'year': '2015', 'imdbID': 'tt3625152', 'type': 'movie', 'poster': 'https://images-na.ssl-images-amazon.com/images/M/MV5BODkyMTMwMjA0Nl5BMl5BanBnXkFtZTgwMzQ3MDc4NDE@._V1_SX300.jpg'}\n",
      "{'title': 'Man of Iron', 'year': '1981', 'imdbID': 'tt0082222', 'type': 'movie', 'poster': 'https://images-na.ssl-images-amazon.com/images/M/MV5BMjIyMzAzNzIwOF5BMl5BanBnXkFtZTgwMjU0MjkwMTE@._V1_SX300.jpg'}\n",
      " 共 81  筆資料，前 10 筆\n",
      "Iron Man\n",
      "Iron Man 3\n",
      "Iron Man 2\n",
      "The Man in the Iron Mask\n",
      "The Man with the Iron Fists\n",
      "Tetsuo, the Iron Man\n",
      "The Invincible Iron Man\n",
      "Iron Man: Rise of Technovore\n",
      "The Man with the Iron Fists 2\n",
      "Man of Iron\n"
     ]
    }
   ],
   "source": [
    "tree = ET.parse('example.xml')\n",
    "root = tree.getroot()\n",
    "print(root.attrib)\n",
    "total = root.attrib['totalResults']\n",
    "movies = list()\n",
    "for tag in root.findall('result'):\n",
    "    print(tag.attrib)\n",
    "    movies.append(tag.attrib['title'])\n",
    "\n",
    "print(' 共', total, ' 筆資料，前 10 筆')\n",
    "print('\\n'.join(movies))"
   ]
  },
  {
   "cell_type": "code",
   "execution_count": 3,
   "metadata": {},
   "outputs": [
    {
     "name": "stdout",
     "output_type": "stream",
     "text": [
      "<?xml version=\"1.0\" ?>\n",
      "<root totalResults=\"81\" response=\"True\">\n",
      " <result title=\"Iron Man\" year=\"2008\" imdbID=\"tt0371746\" type=\"movie\"/>\n",
      " <result title=\"Iron Man 2 \" year=\"2010\" imdbID=\"tt1228705\" type=\"movie\"/>\n",
      "</root>\n",
      "\n"
     ]
    }
   ],
   "source": [
    "# 從資料中產生xml檔案，只要引入 xml.etree.ElementTree 與 xml.dom 的相關函式即可\n",
    "from xml.etree.ElementTree import Element, SubElement, tostring\n",
    "from xml.dom import minidom\n",
    "\n",
    "data = [\n",
    "    ['Iron Man','2008','tt0371746','movie'],\n",
    "    ['Iron Man 2 ','2010','tt1228705','movie']\n",
    "]\n",
    "\n",
    "root = Element('root', {'totalResults': '81','response': 'True'})\n",
    "for d in data:\n",
    "    SubElement(root, 'result',\n",
    "              {'title': d[0] , 'year': d[1], 'imdbID': d[2] , 'type': d[3]})\n",
    "raw_str =  tostring(root,'utf-8')\n",
    "parsed = minidom.parseString(raw_str)\n",
    "print(parsed.toprettyxml(indent=\" \"))"
   ]
  },
  {
   "cell_type": "code",
   "execution_count": null,
   "metadata": {},
   "outputs": [],
   "source": []
  }
 ],
 "metadata": {
  "kernelspec": {
   "display_name": "Python 3",
   "language": "python",
   "name": "python3"
  },
  "language_info": {
   "codemirror_mode": {
    "name": "ipython",
    "version": 3
   },
   "file_extension": ".py",
   "mimetype": "text/x-python",
   "name": "python",
   "nbconvert_exporter": "python",
   "pygments_lexer": "ipython3",
   "version": "3.8.5"
  }
 },
 "nbformat": 4,
 "nbformat_minor": 4
}
