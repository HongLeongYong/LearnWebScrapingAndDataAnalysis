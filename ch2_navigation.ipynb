{
 "cells": [
  {
   "cell_type": "code",
   "execution_count": 9,
   "metadata": {},
   "outputs": [],
   "source": [
    "import requests\n",
    "from bs4 import BeautifulSoup\n",
    "\n",
    "resp = requests.get('http://blog.castman.net/py-scraping-analysis-book/ch2/table/table.html')\n",
    "soup = BeautifulSoup(resp.text, 'html.parser')\n",
    "\n",
    "prices = [] #儲存課程價格的list"
   ]
  },
  {
   "cell_type": "code",
   "execution_count": 10,
   "metadata": {},
   "outputs": [
    {
     "name": "stdout",
     "output_type": "stream",
     "text": [
      "1823.3333333333333\n"
     ]
    }
   ],
   "source": [
    "# 取得所有課程售價： 方法一 ， 使用 index\n",
    "# 找 table 名字 叫 table\n",
    "rows = soup.find('table','table').tbody.find_all('tr')\n",
    "# print(rows)\n",
    "\n",
    "for row in rows:\n",
    "    price = row.find_all('td')[2].text\n",
    "    prices.append(int(price))\n",
    "    \n",
    "print(sum(prices)/len(prices)) # 計算課程均價"
   ]
  },
  {
   "cell_type": "code",
   "execution_count": 11,
   "metadata": {},
   "outputs": [
    {
     "name": "stdout",
     "output_type": "stream",
     "text": [
      "1823.3333333333333\n"
     ]
    }
   ],
   "source": [
    "# 取得所有課程售價 : 方法二 ，  <a> 的 parent (<td>) 的 previous_sibling\n",
    "# 在table中，第四欄 課程連接剛好是<a>，所有使用<a>的上一筆資料\n",
    "links = soup.find_all('a')\n",
    "\n",
    "for link in links:\n",
    "    price = link.parent.previous_sibling.text\n",
    "    prices.append(int(price))\n",
    "    \n",
    "print(sum(prices)/len(prices)) # 計算課程均價"
   ]
  },
  {
   "cell_type": "code",
   "execution_count": 14,
   "metadata": {},
   "outputs": [
    {
     "name": "stdout",
     "output_type": "stream",
     "text": [
      "初心者 - Python入門 初學者 1490 img/python-logo.png\n",
      "Python 網頁爬蟲入門實戰 有程式基礎的初學者 1890 img/python-logo.png\n",
      "Python 機器學習入門實戰 (預計) 有程式基礎的初學者 1890 img/python-logo.png\n",
      "Python 資料科學入門實戰 (預計) 有程式基礎的初學者 1890 img/python-logo.png\n",
      "Python 資料視覺化入門實戰 (預計) 有程式基礎的初學者 1890 img/python-logo.png\n",
      "Python 網站架設入門實戰 (預計) 有程式基礎的初學者 1890 img/python-logo.png\n"
     ]
    }
   ],
   "source": [
    "# 取得每一列所有欄位資訊： find_all('td') or row.children\n",
    "\n",
    "rows = soup.find('table','table').tbody.find_all('tr')\n",
    "for row in rows:\n",
    "    # 方法一： find_all('td')\n",
    "    all_tds = row.find_all('td')\n",
    "    \n",
    "    # 方法二： 找出 row (<tr>) 所有的直接 （下一層) children\n",
    "    all_tds = [td for td in row.children]\n",
    "    \n",
    "    # 取得 href 屬性前先檢查其是否存在\n",
    "    \n",
    "    if 'href' in all_tds[3].a.attrs:\n",
    "        href = all_tds[3].a['href']\n",
    "    else:\n",
    "        href = None\n",
    "    print(all_tds[0].text, all_tds[1].text, all_tds[2].text, all_tds[3].a.img['src'])"
   ]
  },
  {
   "cell_type": "code",
   "execution_count": 15,
   "metadata": {},
   "outputs": [
    {
     "name": "stdout",
     "output_type": "stream",
     "text": [
      "['初心者 - Python入門', '初學者', '1490']\n",
      "['Python 網頁爬蟲入門實戰', '有程式基礎的初學者', '1890']\n",
      "['Python 機器學習入門實戰 (預計)', '有程式基礎的初學者', '1890']\n",
      "['Python 資料科學入門實戰 (預計)', '有程式基礎的初學者', '1890']\n",
      "['Python 資料視覺化入門實戰 (預計)', '有程式基礎的初學者', '1890']\n",
      "['Python 網站架設入門實戰 (預計)', '有程式基礎的初學者', '1890']\n"
     ]
    }
   ],
   "source": [
    "# 取得每一列所有欄位文字資訊 ： stripped_strings\n",
    "\n",
    "rows = soup.find('table','table').tbody.find_all('tr')\n",
    "for row in rows:\n",
    "    print([s for s in row.stripped_strings])"
   ]
  },
  {
   "cell_type": "code",
   "execution_count": null,
   "metadata": {},
   "outputs": [],
   "source": []
  }
 ],
 "metadata": {
  "kernelspec": {
   "display_name": "Python 3",
   "language": "python",
   "name": "python3"
  },
  "language_info": {
   "codemirror_mode": {
    "name": "ipython",
    "version": 3
   },
   "file_extension": ".py",
   "mimetype": "text/x-python",
   "name": "python",
   "nbconvert_exporter": "python",
   "pygments_lexer": "ipython3",
   "version": "3.8.5"
  }
 },
 "nbformat": 4,
 "nbformat_minor": 4
}
