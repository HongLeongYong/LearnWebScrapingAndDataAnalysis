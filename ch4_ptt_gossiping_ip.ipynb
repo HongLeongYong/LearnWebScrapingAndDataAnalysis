{
 "cells": [
  {
   "cell_type": "code",
   "execution_count": null,
   "metadata": {},
   "outputs": [],
   "source": [
    "import requests\n",
    "from bs4 import BeautifulSoup\n",
    "import time\n",
    "import json\n",
    "import re"
   ]
  },
  {
   "cell_type": "code",
   "execution_count": null,
   "metadata": {},
   "outputs": [],
   "source": [
    "def get_ip(dom):\n",
    "    # e.g. ※ 發信站: 批踢踢實業坊(ptt.cc), 來自: 122.96.47.157 (中國)\n",
    "    pattern = '來自: \\d+\\.\\d+\\.\\d+\\.\\d+'\n",
    "    match = re.search(pattern.dom)\n",
    "    if match:\n",
    "        return match.group(0).replace('來自: ', '')\n",
    "    else:\n",
    "        return None    "
   ]
  },
  {
   "cell_type": "code",
   "execution_count": null,
   "metadata": {},
   "outputs": [],
   "source": [
    "# ipstack API key\n",
    "API_KEY = 'ad64828e1ee76a9ee0339df441b50491'\n",
    "\n",
    "def get_country(ip):\n",
    "    if ip:\n",
    "        url = 'http://api.ipstack.com/{}?access_key={}'.format(ip, API_KEY)\n",
    "        data = requests.get(url).json()\n",
    "        country_name = data['country_name'] if data['country_name'] else None\n",
    "        return country_name\n",
    "    return None\n",
    "       "
   ]
  },
  {
   "cell_type": "code",
   "execution_count": null,
   "metadata": {},
   "outputs": [],
   "source": [
    "def get_web_page(url):\n",
    "    resp = requests.get(\n",
    "    url = url,\n",
    "    cookies = {'over18':'1'}  # 告知 Server 已回答滿18歲的問題\n",
    "    )\n",
    "    if resp.status_code != 200:\n",
    "        print('Invalid url:',resp.url)\n",
    "    else:\n",
    "        return resp.text"
   ]
  },
  {
   "cell_type": "code",
   "execution_count": null,
   "metadata": {},
   "outputs": [],
   "source": [
    "def get_articles(dom,date):\n",
    "    soup = BeautifulSoup(dom, 'html5lib')\n",
    "    \n",
    "    # 取得上一頁的連接\n",
    "    paging_div = soup.find('div','btn-group btn-group-paging')\n",
    "    prev_url = paging_div.find_all('a')[1]['href'] # 從0開始，1是指按鈕上頁\n",
    "    \n",
    "    articles = [] #儲存取得的文章資料\n",
    "    divs = soup.find_all('div','r-ent')\n",
    "    for d in divs:\n",
    "        if d.find('div','date').text.strip() ==  date: #發文日期正確\n",
    "            # 取得推文數\n",
    "            push_count = 0\n",
    "            push_str = d.find('div','nrec').text\n",
    "            if push_str:\n",
    "                try:\n",
    "                    push_count = int(push_str) # 轉換字串為數字\n",
    "                except ValueError:\n",
    "                    # 若轉換失敗，可能是' 爆' 或 x1, x2,...\n",
    "                    # 若不是， 不做任何事， push_count 保持為 0\n",
    "                    if push_str == '爆':\n",
    "                        push_count = 99\n",
    "                    elif push_str.startswith('X'):\n",
    "                        push_count = -10\n",
    "                        \n",
    "            # 取得文章連接及標題\n",
    "            if d.find('a'): #有超鏈接，表示文章存在，未被刪除\n",
    "                href = d.find('a')['href']\n",
    "                title = d.find('a').text\n",
    "                author = d.find('div','author').text if d.find('div','author') else ''\n",
    "                articles.append({\n",
    "                    'title' : title,\n",
    "                    'href' : href,\n",
    "                    'push_count' : push_count,\n",
    "                    'author' : author\n",
    "                })\n",
    "    return articles, prev_url"
   ]
  },
  {
   "cell_type": "code",
   "execution_count": null,
   "metadata": {},
   "outputs": [],
   "source": [
    "print('取得今日文章列表....')\n",
    "PTT_URL = 'https://www.ptt.cc/'\n",
    "current_page = get_web_page(PTT_URL + '/bbs/Gossiping/index.html')\n",
    "if current_page:\n",
    "    articles = [] #全部今日的文章\n",
    "    #今天日期， 去掉開頭的 '0' 以符合PTT網站格式\n",
    "    today = time.strftime('%m/%d').lstrip('0')\n",
    "    # 目前頁面的今日文章\n",
    "    current_articles, prev_url = get_articles(current_page, today)\n",
    "    # 若目前頁面有今日文章則加入 articles, 並回到上一頁繼續尋找是否有今日文章\n",
    "    while current_articles:\n",
    "        articles += current_articles\n",
    "        current_page = get_web_page(PTT_URL + prev_url)\n",
    "        current_articles, prev_url = get_articles(current_page, today)\n",
    "    print('共 %d 篇文章' %(len(articles)))\n",
    "    \n",
    "    # 已取得文章列表，開始進入各文章尋找發文者IP\n",
    "    print('取得前100篇文章 IP')\n",
    "    country_to_count = dict()\n",
    "    for article in articles[:100]:\n",
    "        print('查詢 IP:' , article['title'])\n",
    "        page = get_web_page(PTT_URL + article['href'])\n",
    "        if page:\n",
    "            ip = get_ip(page)\n",
    "            country = get_country(ip)\n",
    "            if country in country_to_count.keys():\n",
    "                country_to_count[country] += 1\n",
    "            else:\n",
    "                country_to_count[country] = 1\n",
    "                \n",
    "    # 印出各國 IP 次數資訊\n",
    "    print('各國 IP 分佈')\n",
    "    for k, v in country_to_count.items():\n",
    "        print(k,v)"
   ]
  },
  {
   "cell_type": "code",
   "execution_count": null,
   "metadata": {},
   "outputs": [],
   "source": []
  }
 ],
 "metadata": {
  "kernelspec": {
   "display_name": "Python 3",
   "language": "python",
   "name": "python3"
  },
  "language_info": {
   "codemirror_mode": {
    "name": "ipython",
    "version": 3
   },
   "file_extension": ".py",
   "mimetype": "text/x-python",
   "name": "python",
   "nbconvert_exporter": "python",
   "pygments_lexer": "ipython3",
   "version": "3.8.5"
  }
 },
 "nbformat": 4,
 "nbformat_minor": 4
}
