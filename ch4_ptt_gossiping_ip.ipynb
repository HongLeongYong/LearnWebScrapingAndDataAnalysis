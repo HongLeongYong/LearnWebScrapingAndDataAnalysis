{
 "cells": [
  {
   "cell_type": "code",
   "execution_count": null,
   "metadata": {},
   "outputs": [],
   "source": [
    "import re\n",
    "\n",
    "def get_ip(dom):\n",
    "    # e.g. ※ 發信站: 批踢踢實業坊(ptt.cc), 來自: 122.96.47.157 (中國)\n",
    "    pattern = '來自: \\d+\\.\\d+\\.\\d+\\.\\d+'\n",
    "    match = re.search(pattern.dom)\n",
    "    if match:\n",
    "        return match.group(0).replace('來自: ', '')\n",
    "    else:\n",
    "        return None\n",
    "    "
   ]
  }
 ],
 "metadata": {
  "kernelspec": {
   "display_name": "Python 3",
   "language": "python",
   "name": "python3"
  },
  "language_info": {
   "codemirror_mode": {
    "name": "ipython",
    "version": 3
   },
   "file_extension": ".py",
   "mimetype": "text/x-python",
   "name": "python",
   "nbconvert_exporter": "python",
   "pygments_lexer": "ipython3",
   "version": "3.8.5"
  }
 },
 "nbformat": 4,
 "nbformat_minor": 4
}
