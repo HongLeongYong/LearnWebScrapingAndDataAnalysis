{
 "cells": [
  {
   "cell_type": "code",
   "execution_count": 1,
   "metadata": {},
   "outputs": [],
   "source": [
    "# 心得\n",
    "# 這只是練習，目前比價網的功能已經不再好用，就例如搜尋 IPHONE 12, 顯示出的東西都沒什麼關聯性"
   ]
  },
  {
   "cell_type": "code",
   "execution_count": 2,
   "metadata": {},
   "outputs": [],
   "source": [
    "from bs4 import BeautifulSoup\n",
    "import re , csv, requests"
   ]
  },
  {
   "cell_type": "code",
   "execution_count": 3,
   "metadata": {},
   "outputs": [
    {
     "name": "stdout",
     "output_type": "stream",
     "text": [
      " 共 22 項商品\n",
      "['SONY PS4主機(500G黑) HITS5 同捆組', '9980', 'isunfar愛順發3C購物網']\n",
      "['【PS4 組合】500G 主機(HITS同捆組)+原廠無線手把', '11570', 'momo摩天商城']\n",
      "['PS4收納包 pro便攜包ps4pro收納包索尼PS4配件包主機保護包旅行背包顯示器', '2688', 'momo摩天商城']\n",
      "['★快速到貨★【SONY 索尼】PS4 HITS Bundle 4 500G主機同捆組', '9980', 'udn買東西']\n",
      "['【PS4週邊】☆ PS4 SONY原廠 HDD 插槽蓋 主機上蓋 硬碟殼 硬碟蓋 ☆【水波藍色】台中星光電玩', '480', 'momo摩天商城']\n",
      "['【PS4週邊】☆ SONY原廠 新次元戰記 戰機少女 HDD 插槽蓋 主機上蓋硬碟殼 ☆【黑色次世代紫靈心】台中星光電玩', '2630', 'momo摩天商城']\n",
      "['【PS4週邊】☆ SONY原廠 勇者鬥惡龍 創世小玩家 HDD 插槽蓋 主機上蓋 硬碟殼 ☆【白色】台中星光電玩', '590', 'momo摩天商城']\n",
      "['ps4收納包 SONY 索尼ps4 pro主機包收納包slim游戲機包PS4/ps3主機通用包  免運', '672', 'momo摩天商城']\n",
      "['【小艾時尚】PS4 Slim pro主機防塵罩 收納包 保護套 防塵套PS4pro游戲主機罩(全新正品)', '856', 'momo摩天商城']\n",
      "['【軟體世界】PS4 Pro 1TB 主機 極致黑 加 PS4 手把 極致黑 加 手把充電座 加 新鋼彈創壞者 中文版(雙十一點數22倍送限定組合)', '17000', 'momo摩天商城']\n",
      "['【軟體世界】PS4 Pro 1TB 主機 極致黑 加 PS4 手把 冰河白 加 手把充電座 加 新鋼彈創壞者 中文版(雙十一點數22倍送限定組合)', '17000', 'momo摩天商城']\n",
      "['【軟體世界】PS4 Pro 1TB 主機 極致黑 加 PS4 手把 極致黑 加 手把充電座 加 火影忍者新忍出擊 中文版(雙十一點數22倍送限定組合)', '16900', 'momo摩天商城']\n",
      "['【軟體世界】PS4 Pro 1TB 主機 極致黑 加 PS4 手把 冰河白 加 手把充電座 加 火影忍者新忍出擊 中文版(雙十一點數22倍送限定組合)', '16900', 'momo摩天商城']\n",
      "['【PS4主機 豪華西部組】☆ 2117A Slim 薄機＋碧血狂殺2 特別版＋機身貼 ☆【台中星光電玩】', '11640', 'momo摩天商城']\n",
      "['【軟體世界】PS4 Pro 1TB 主機 冰河白 加購 PS4 手把 冰河白 組合(11/1-11/30期間限定促銷)', '13480', 'momo摩天商城']\n",
      "['PS4 主機散熱風扇支架散熱器底座PS4手柄支架座充主機配件充電器', '1099', 'momo摩天商城']\n",
      "['【福利品特賣會 PS4主機】☆ 2117A SLIM Days of Play 藍色主機 ☆【無盒全新品】台中星光電玩', '9440', 'momo摩天商城']\n",
      "['【板橋魔力】PS4 PRO主機 日本 CYBER USB端子 主機吸入口 USB孔 灰塵過濾 防塵塞組 黑色款', '590', 'momo摩天商城']\n",
      "['【板橋魔力】PS4 PRO主機用 日本ANSWER 多用途直立架 立架 雙風扇 雙手充電座 放置架 含USB擴充孔', '1090', 'momo摩天商城']\n",
      "['【PS4主機】☆ PS4 Pro 漫威蜘蛛人 特仕主機 紅色主機 限定機 台灣公司貨 ☆【不含遊戲軟體】台中星光電玩', '13450', 'momo摩天商城']\n",
      "['SONY PS4 PRO 1TB 主機 + 俠盜獵車手5《中文版》', '14570', 'momo摩天商城']\n",
      "['SONY PS4主機(500G黑) HITS5 同捆組', '9980', 'isunfar愛順發3C購物網']\n"
     ]
    }
   ],
   "source": [
    "query = 'ps4主機'\n",
    "page = requests.get('https://ezprice.com.tw/s/' + query).text\n",
    "# print(page)\n",
    "soup = BeautifulSoup(page,'html5lib')\n",
    "items = list()\n",
    "for div in soup.find_all('div','search-rst clearfix'):\n",
    "    item = list()\n",
    "    item.append(div.h2.a.text.strip())\n",
    "    # 先取得價格字串， 再移除其中的非數字部分（以空白字串取代非0-9的字元）\n",
    "    price = div.find('span','num').text\n",
    "    price = re.sub(r'[^0-9]', '', price)\n",
    "    item.append(price)\n",
    "    # 若商家區塊存在則取出商家名稱\n",
    "    if div.find('span','platform-name'):\n",
    "        item.append(div.find('span','platform-name').text.strip())\n",
    "    else:\n",
    "        item.append('無')\n",
    "    items.append(item)\n",
    "print(' 共 %d 項商品' %(len(items)))\n",
    "for item in items:\n",
    "    print(item)"
   ]
  },
  {
   "cell_type": "code",
   "execution_count": 4,
   "metadata": {},
   "outputs": [],
   "source": [
    "with open('ezprice.csv','wb') as f:\n",
    "    f.write(b'\\xEF\\xBB\\xBF') #在檔頭加上 UTF-8 編碼的BOM\n",
    "    \n",
    "with open('ezprice.csv','w', encoding= 'utf-8',newline='') as f:\n",
    "    writer = csv.writer(f)\n",
    "    writer.writerow(('品項','價格','商家'))\n",
    "    for item in items:\n",
    "        writer.writerow((column for column in item))"
   ]
  },
  {
   "cell_type": "code",
   "execution_count": 5,
   "metadata": {},
   "outputs": [
    {
     "name": "stdout",
     "output_type": "stream",
     "text": [
      "讀取 csv 檔\n",
      "SONY PS4主機(500G黑) HITS5 同捆組 9980 isunfar愛順發3C購物網\n",
      "【PS4 組合】500G 主機(HITS同捆組)+原廠無線手把 11570 momo摩天商城\n",
      "PS4收納包 pro便攜包ps4pro收納包索尼PS4配件包主機保護包旅行背包顯示器 2688 momo摩天商城\n",
      "★快速到貨★【SONY 索尼】PS4 HITS Bundle 4 500G主機同捆組 9980 udn買東西\n",
      "【PS4週邊】☆ PS4 SONY原廠 HDD 插槽蓋 主機上蓋 硬碟殼 硬碟蓋 ☆【水波藍色】台中星光電玩 480 momo摩天商城\n",
      "【PS4週邊】☆ SONY原廠 新次元戰記 戰機少女 HDD 插槽蓋 主機上蓋硬碟殼 ☆【黑色次世代紫靈心】台中星光電玩 2630 momo摩天商城\n",
      "【PS4週邊】☆ SONY原廠 勇者鬥惡龍 創世小玩家 HDD 插槽蓋 主機上蓋 硬碟殼 ☆【白色】台中星光電玩 590 momo摩天商城\n",
      "ps4收納包 SONY 索尼ps4 pro主機包收納包slim游戲機包PS4/ps3主機通用包  免運 672 momo摩天商城\n",
      "【小艾時尚】PS4 Slim pro主機防塵罩 收納包 保護套 防塵套PS4pro游戲主機罩(全新正品) 856 momo摩天商城\n",
      "【軟體世界】PS4 Pro 1TB 主機 極致黑 加 PS4 手把 極致黑 加 手把充電座 加 新鋼彈創壞者 中文版(雙十一點數22倍送限定組合) 17000 momo摩天商城\n",
      "【軟體世界】PS4 Pro 1TB 主機 極致黑 加 PS4 手把 冰河白 加 手把充電座 加 新鋼彈創壞者 中文版(雙十一點數22倍送限定組合) 17000 momo摩天商城\n",
      "【軟體世界】PS4 Pro 1TB 主機 極致黑 加 PS4 手把 極致黑 加 手把充電座 加 火影忍者新忍出擊 中文版(雙十一點數22倍送限定組合) 16900 momo摩天商城\n",
      "【軟體世界】PS4 Pro 1TB 主機 極致黑 加 PS4 手把 冰河白 加 手把充電座 加 火影忍者新忍出擊 中文版(雙十一點數22倍送限定組合) 16900 momo摩天商城\n",
      "【PS4主機 豪華西部組】☆ 2117A Slim 薄機＋碧血狂殺2 特別版＋機身貼 ☆【台中星光電玩】 11640 momo摩天商城\n",
      "【軟體世界】PS4 Pro 1TB 主機 冰河白 加購 PS4 手把 冰河白 組合(11/1-11/30期間限定促銷) 13480 momo摩天商城\n",
      "PS4 主機散熱風扇支架散熱器底座PS4手柄支架座充主機配件充電器 1099 momo摩天商城\n",
      "【福利品特賣會 PS4主機】☆ 2117A SLIM Days of Play 藍色主機 ☆【無盒全新品】台中星光電玩 9440 momo摩天商城\n",
      "【板橋魔力】PS4 PRO主機 日本 CYBER USB端子 主機吸入口 USB孔 灰塵過濾 防塵塞組 黑色款 590 momo摩天商城\n",
      "【板橋魔力】PS4 PRO主機用 日本ANSWER 多用途直立架 立架 雙風扇 雙手充電座 放置架 含USB擴充孔 1090 momo摩天商城\n",
      "【PS4主機】☆ PS4 Pro 漫威蜘蛛人 特仕主機 紅色主機 限定機 台灣公司貨 ☆【不含遊戲軟體】台中星光電玩 13450 momo摩天商城\n",
      "SONY PS4 PRO 1TB 主機 + 俠盜獵車手5《中文版》 14570 momo摩天商城\n",
      "SONY PS4主機(500G黑) HITS5 同捆組 9980 isunfar愛順發3C購物網\n"
     ]
    }
   ],
   "source": [
    "print('讀取 csv 檔')\n",
    "with open('ezprice.csv','r',encoding='utf-8') as f:\n",
    "    reader = csv.DictReader(f)\n",
    "    for row in reader:\n",
    "        print(row['品項'], row['價格'], row['商家'])\n",
    "    "
   ]
  },
  {
   "cell_type": "code",
   "execution_count": null,
   "metadata": {},
   "outputs": [],
   "source": []
  }
 ],
 "metadata": {
  "kernelspec": {
   "display_name": "Python 3",
   "language": "python",
   "name": "python3"
  },
  "language_info": {
   "codemirror_mode": {
    "name": "ipython",
    "version": 3
   },
   "file_extension": ".py",
   "mimetype": "text/x-python",
   "name": "python",
   "nbconvert_exporter": "python",
   "pygments_lexer": "ipython3",
   "version": "3.8.5"
  }
 },
 "nbformat": 4,
 "nbformat_minor": 4
}
